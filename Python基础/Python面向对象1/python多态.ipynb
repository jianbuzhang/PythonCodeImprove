{
 "cells": [
  {
   "cell_type": "code",
   "execution_count": 5,
   "metadata": {},
   "outputs": [
    {
     "name": "stdout",
     "output_type": "stream",
     "text": [
      "S1.show\n",
      "None\n",
      "S2.show\n",
      "None\n"
     ]
    }
   ],
   "source": [
    "# python多态\n",
    "#多态的概念是应用于Java和C#这类强类型语言中，而python崇尚“鸭子类型”；\n",
    "#所谓多态：定义时的类型和运行时的类型不一样，此时就成为多态\n",
    "\n",
    "#------------------------------------------------------------------------#\n",
    "# Python伪代码实现Java或C#的多态\n",
    "'''\n",
    "class F1(object):\n",
    "    def show(self):\n",
    "        print('F1.show')\n",
    "\n",
    "class S1(F1):\n",
    "    def show(self):\n",
    "        print('S1.show')\n",
    "\n",
    "class S2(F1):\n",
    "    def show(self):\n",
    "        print('S2.show')\n",
    "\n",
    "# 由于在Java或C#中定义函数参数时，必须指定参数的类型\n",
    "# 为了让Func函数既可以执行S1对象的show方法，又可以执行S2对象的show方法，所以，定义了一个S1和S2类的父类\n",
    "# 而实际传入的参数是：S1对象和S2对象\n",
    "\n",
    "def Func(F1 obj):\n",
    "    \"\"\"Func函数需要接收一个F1类型或者F1子类的类型\"\"\"\n",
    "\n",
    "    print(obj.show())\n",
    "\n",
    "s1_obj = S1()\n",
    "Func(s1_obj) # 在Func函数中传入S1类的对象 s1_obj，执行 S1 的show方法，结果：S1.show\n",
    "\n",
    "s2_obj = S2()\n",
    "Func(s2_obj) # 在Func函数中传入Ss类的对象 ss_obj，执行 Ss 的show方法，结果：S2.show\n",
    "'''\n",
    "#------------------------------------------------------------------------#\n",
    "\n",
    "\n",
    "# python鸭子类型\n",
    "class F1(object):\n",
    "    def show(self):\n",
    "        print('F1.show')\n",
    "\n",
    "class S1(F1):\n",
    "\n",
    "    def show(self):\n",
    "        print('S1.show')\n",
    "\n",
    "class S2(F1):\n",
    "\n",
    "    def show(self):\n",
    "        print('S2.show')\n",
    "\n",
    "def Func(obj):\n",
    "    print(obj.show())\n",
    "\n",
    "s1_obj = S1()\n",
    "Func(s1_obj) \n",
    "\n",
    "s2_obj = S2()\n",
    "Func(s2_obj)\n"
   ]
  }
 ],
 "metadata": {
  "kernelspec": {
   "display_name": "Python 3",
   "language": "python",
   "name": "python3"
  },
  "language_info": {
   "codemirror_mode": {
    "name": "ipython",
    "version": 3
   },
   "file_extension": ".py",
   "mimetype": "text/x-python",
   "name": "python",
   "nbconvert_exporter": "python",
   "pygments_lexer": "ipython3",
   "version": "3.6.3"
  }
 },
 "nbformat": 4,
 "nbformat_minor": 2
}
