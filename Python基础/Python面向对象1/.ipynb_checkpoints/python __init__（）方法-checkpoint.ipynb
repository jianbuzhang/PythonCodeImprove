{
 "cells": [
  {
   "cell_type": "code",
   "execution_count": 2,
   "metadata": {},
   "outputs": [
    {
     "name": "stdout",
     "output_type": "stream",
     "text": [
      "车的颜色为:蓝色\n",
      "车轮胎数量为:4\n"
     ]
    }
   ],
   "source": [
    "# python __init__（）方法\n",
    "# python类中的self相当于Cpp中的this\n",
    "#创建对象后，python解释器默认调用__init()方法\n",
    "\n",
    "\n",
    "# 定义汽车类\n",
    "class Car:\n",
    "\n",
    "    def __init__(self):\n",
    "        self.wheelNum = 4\n",
    "        self.color = '蓝色'\n",
    "\n",
    "    def move(self):\n",
    "        print('车在跑，目标:夏威夷')\n",
    "\n",
    "# 创建对象\n",
    "BMW = Car()\n",
    "\n",
    "print('车的颜色为:%s'%BMW.color)\n",
    "print('车轮胎数量为:%d'%BMW.wheelNum)\n",
    "\n",
    "#Python中没有像C++中public和private这些关键字来区别公有属性和私有属性\n",
    "#它是以属性命名方式来区分，如果在属性名前面加了2个下划线'__'，则表明该属性是私有属性，\n",
    "#否则为公有属性（方法也是一样，方法名前面加了2个下划线的话表示该方法是私有的，否则为公有的）。"
   ]
  },
  {
   "cell_type": "code",
   "execution_count": null,
   "metadata": {
    "collapsed": true
   },
   "outputs": [],
   "source": []
  }
 ],
 "metadata": {
  "kernelspec": {
   "display_name": "Python 3",
   "language": "python",
   "name": "python3"
  },
  "language_info": {
   "codemirror_mode": {
    "name": "ipython",
    "version": 3
   },
   "file_extension": ".py",
   "mimetype": "text/x-python",
   "name": "python",
   "nbconvert_exporter": "python",
   "pygments_lexer": "ipython3",
   "version": "3.6.3"
  }
 },
 "nbformat": 4,
 "nbformat_minor": 2
}
