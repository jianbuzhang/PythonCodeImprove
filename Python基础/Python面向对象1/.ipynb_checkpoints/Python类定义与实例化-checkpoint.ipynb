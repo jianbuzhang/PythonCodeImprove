{
 "cells": [
  {
   "cell_type": "code",
   "execution_count": 1,
   "metadata": {},
   "outputs": [
    {
     "name": "stdout",
     "output_type": "stream",
     "text": [
      "车正在移动...\n",
      "车在鸣笛...嘟嘟嘟...\n",
      "黑色\n",
      "4\n"
     ]
    }
   ],
   "source": [
    "#\n",
    "#定义类\n",
    "class Car:\n",
    "    #方法\n",
    "    def getCarInfo(self):\n",
    "        print('车轮子个数：%d,颜色%s'%(self.wheelNum,self.color))\n",
    "    def move(self):\n",
    "        print('车正在移动...')\n",
    "    def toot(self):\n",
    "        print(\"车在鸣笛...嘟嘟嘟...\")\n",
    "\n",
    "#创建对象  创建对象的格式为：对象名=类名（）\n",
    "BMW=Car()\n",
    "BMW.color=\"黑色\"\n",
    "BMW.wheelNum=4  #轮子数量\n",
    "BMW.move()\n",
    "BMW.toot()\n",
    "print(BMW.color)\n",
    "print(BMW.wheelNum)\n",
    "\n"
   ]
  },
  {
   "cell_type": "code",
   "execution_count": null,
   "metadata": {
    "collapsed": true
   },
   "outputs": [],
   "source": []
  }
 ],
 "metadata": {
  "kernelspec": {
   "display_name": "Python 3",
   "language": "python",
   "name": "python3"
  },
  "language_info": {
   "codemirror_mode": {
    "name": "ipython",
    "version": 3
   },
   "file_extension": ".py",
   "mimetype": "text/x-python",
   "name": "python",
   "nbconvert_exporter": "python",
   "pygments_lexer": "ipython3",
   "version": "3.6.3"
  }
 },
 "nbformat": 4,
 "nbformat_minor": 2
}
