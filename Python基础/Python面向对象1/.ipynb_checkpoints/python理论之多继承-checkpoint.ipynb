{
 "cells": [
  {
   "cell_type": "code",
   "execution_count": 3,
   "metadata": {},
   "outputs": [
    {
     "name": "stdout",
     "output_type": "stream",
     "text": [
      "--------A--------\n",
      "--------B--------\n"
     ]
    }
   ],
   "source": [
    "# python理论之多继承\n",
    "\n",
    "#定义一个父类1\n",
    "class A:\n",
    "    def printA(self):\n",
    "        print('--------A--------')\n",
    "\n",
    "#定义一个父类2\n",
    "class B:\n",
    "    def printB(self):\n",
    "        print('--------B--------')\n",
    "        \n",
    "#定义一个子类，继承自A,B\n",
    "class C(A,B):\n",
    "    def print(self):\n",
    "        print('-------C--------')\n",
    "        \n",
    "obj_c=C()\n",
    "obj_c.printA()\n",
    "obj_c.printB()"
   ]
  },
  {
   "cell_type": "code",
   "execution_count": null,
   "metadata": {
    "collapsed": true
   },
   "outputs": [],
   "source": []
  }
 ],
 "metadata": {
  "kernelspec": {
   "display_name": "Python 3",
   "language": "python",
   "name": "python3"
  },
  "language_info": {
   "codemirror_mode": {
    "name": "ipython",
    "version": 3
   },
   "file_extension": ".py",
   "mimetype": "text/x-python",
   "name": "python",
   "nbconvert_exporter": "python",
   "pygments_lexer": "ipython3",
   "version": "3.6.3"
  }
 },
 "nbformat": 4,
 "nbformat_minor": 2
}
