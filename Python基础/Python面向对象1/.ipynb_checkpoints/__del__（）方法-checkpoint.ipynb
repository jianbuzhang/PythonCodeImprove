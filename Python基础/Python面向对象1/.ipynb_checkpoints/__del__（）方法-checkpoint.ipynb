{
 "cells": [
  {
   "cell_type": "code",
   "execution_count": 1,
   "metadata": {},
   "outputs": [
    {
     "name": "stdout",
     "output_type": "stream",
     "text": [
      "__init__方法被调用\n",
      "__del__方法被调用\n",
      "哈皮狗对象马上被干掉了...\n",
      "__init__方法被调用\n",
      "---马上 删除cat对象\n",
      "---马上 删除cat2对象\n",
      "---马上 删除cat3对象\n",
      "__del__方法被调用\n",
      "波斯猫对象马上被干掉了...\n",
      "程序2秒钟后结束\n"
     ]
    }
   ],
   "source": [
    "# __del__（）方法\n",
    "#创建对象后，python解释器默认调用__init__()方法\n",
    "#当删除一个对象时，python解释器也会默认调用一个方法，即__del__()方法\n",
    "\n",
    "import time\n",
    "class Animal(object):\n",
    "\n",
    "    # 初始化方法\n",
    "    # 创建完对象后会自动被调用\n",
    "    def __init__(self, name):\n",
    "        print('__init__方法被调用')\n",
    "        self.__name = name\n",
    "\n",
    "\n",
    "    # 析构方法\n",
    "    # 当对象被删除时，会自动被调用\n",
    "    def __del__(self):\n",
    "        print(\"__del__方法被调用\")\n",
    "        print(\"%s对象马上被干掉了...\"%self.__name)\n",
    "\n",
    "# 创建对象\n",
    "dog = Animal(\"哈皮狗\")\n",
    "\n",
    "# 删除对象\n",
    "del dog\n",
    "\n",
    "\n",
    "cat = Animal(\"波斯猫\")\n",
    "cat2 = cat\n",
    "cat3 = cat\n",
    "\n",
    "print(\"---马上 删除cat对象\")\n",
    "del cat\n",
    "print(\"---马上 删除cat2对象\")\n",
    "del cat2\n",
    "print(\"---马上 删除cat3对象\")\n",
    "del cat3\n",
    "\n",
    "print(\"程序2秒钟后结束\")\n",
    "time.sleep(2)"
   ]
  },
  {
   "cell_type": "code",
   "execution_count": null,
   "metadata": {
    "collapsed": true
   },
   "outputs": [],
   "source": []
  }
 ],
 "metadata": {
  "kernelspec": {
   "display_name": "Python 3",
   "language": "python",
   "name": "python3"
  },
  "language_info": {
   "codemirror_mode": {
    "name": "ipython",
    "version": 3
   },
   "file_extension": ".py",
   "mimetype": "text/x-python",
   "name": "python",
   "nbconvert_exporter": "python",
   "pygments_lexer": "ipython3",
   "version": "3.6.3"
  }
 },
 "nbformat": 4,
 "nbformat_minor": 2
}
