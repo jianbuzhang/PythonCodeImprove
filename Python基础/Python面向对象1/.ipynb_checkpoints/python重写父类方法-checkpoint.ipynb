{
 "cells": [
  {
   "cell_type": "code",
   "execution_count": 1,
   "metadata": {},
   "outputs": [
    {
     "name": "stdout",
     "output_type": "stream",
     "text": [
      "halou-----2\n"
     ]
    }
   ],
   "source": [
    "# python重写父类方法\n",
    "#所谓重写，就是子类中，有一个和父类相同名字的方法，在子类中的方法会覆盖掉父类中同名的方法\n",
    "#coding=utf-8\n",
    "\n",
    "#coding=utf-8\n",
    "class Cat(object):\n",
    "    def sayHello(self):\n",
    "        print(\"halou-----1\")\n",
    "\n",
    "\n",
    "class Bosi(Cat):\n",
    "\n",
    "    def sayHello(self):\n",
    "        print(\"halou-----2\")\n",
    "\n",
    "bosi = Bosi()\n",
    "\n",
    "bosi.sayHello()"
   ]
  },
  {
   "cell_type": "code",
   "execution_count": null,
   "metadata": {
    "collapsed": true
   },
   "outputs": [],
   "source": []
  }
 ],
 "metadata": {
  "kernelspec": {
   "display_name": "Python 3",
   "language": "python",
   "name": "python3"
  },
  "language_info": {
   "codemirror_mode": {
    "name": "ipython",
    "version": 3
   },
   "file_extension": ".py",
   "mimetype": "text/x-python",
   "name": "python",
   "nbconvert_exporter": "python",
   "pygments_lexer": "ipython3",
   "version": "3.6.3"
  }
 },
 "nbformat": 4,
 "nbformat_minor": 2
}
