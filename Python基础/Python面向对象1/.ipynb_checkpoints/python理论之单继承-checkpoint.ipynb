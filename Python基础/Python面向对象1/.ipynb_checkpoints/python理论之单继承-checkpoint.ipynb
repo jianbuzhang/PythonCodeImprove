{
 "cells": [
  {
   "cell_type": "code",
   "execution_count": 3,
   "metadata": {},
   "outputs": [
    {
     "name": "stdout",
     "output_type": "stream",
     "text": [
      "bs的名字为:印度猫\n",
      "bs的颜色为:白色\n",
      "印度猫--在吃\n",
      "波斯--在跑\n"
     ]
    }
   ],
   "source": [
    "# python理论之单继承\n",
    "\n",
    "# 定义一个父类，如下:\n",
    "class Cat():\n",
    "\n",
    "    def __init__(self, name, color=\"白色\"):\n",
    "        self.name = name\n",
    "        self.color = color\n",
    "\n",
    "    def run(self):\n",
    "        print(\"%s--在跑\"%self.name)\n",
    "\n",
    "\n",
    "# 定义一个子类，继承Cat类如下:\n",
    "class Bosi(Cat):\n",
    "\n",
    "    def setNewName(self, newName):\n",
    "        self.name = newName\n",
    "\n",
    "    def eat(self):\n",
    "        print(\"%s--在吃\"%self.name)\n",
    "\n",
    "\n",
    "bs = Bosi(\"印度猫\")\n",
    "print('bs的名字为:%s'%bs.name)\n",
    "print('bs的颜色为:%s'%bs.color)\n",
    "bs.eat()\n",
    "bs.setNewName('波斯')\n",
    "bs.run()"
   ]
  },
  {
   "cell_type": "code",
   "execution_count": null,
   "metadata": {
    "collapsed": true
   },
   "outputs": [],
   "source": []
  }
 ],
 "metadata": {
  "kernelspec": {
   "display_name": "Python 3",
   "language": "python",
   "name": "python3"
  },
  "language_info": {
   "codemirror_mode": {
    "name": "ipython",
    "version": 3
   },
   "file_extension": ".py",
   "mimetype": "text/x-python",
   "name": "python",
   "nbconvert_exporter": "python",
   "pygments_lexer": "ipython3",
   "version": "3.6.3"
  }
 },
 "nbformat": 4,
 "nbformat_minor": 2
}
