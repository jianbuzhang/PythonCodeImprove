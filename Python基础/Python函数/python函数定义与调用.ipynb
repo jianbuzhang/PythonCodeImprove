{
 "cells": [
  {
   "cell_type": "code",
   "execution_count": 12,
   "metadata": {},
   "outputs": [
    {
     "name": "stdout",
     "output_type": "stream",
     "text": [
      "-----------------------------------\n",
      "      人生苦短，我用python         \n",
      "-----------------------------------\n",
      "a+b=34\n",
      "Help on function test in module __main__:\n",
      "\n",
      "test(a, b)\n",
      "    用来完成对两个数求和\n",
      "\n",
      "509\n"
     ]
    }
   ],
   "source": [
    "# python函数定义与调用\n",
    "\n",
    "# 定义函数\n",
    "def printInfo():\n",
    "    print('-----------------------------------')\n",
    "    print('      人生苦短，我用python         ')\n",
    "    print('-----------------------------------')\n",
    "\n",
    "# 调用函数\n",
    "printInfo()\n",
    "\n",
    "# 函数的文档说明\n",
    "def test(a,b):\n",
    "    \"用来完成对两个数求和\"\n",
    "    \"测试文档\"\n",
    "    print('a+b=%d'%(a+b))  \n",
    "test(11,23)\n",
    "help(test)\n",
    "\n",
    "# 函数的返回值\n",
    "def returnFuncTest(a,b):\n",
    "    c=a+b\n",
    "    return c\n",
    "result=returnFuncTest(24,485)\n",
    "print(result)"
   ]
  },
  {
   "cell_type": "code",
   "execution_count": null,
   "metadata": {
    "collapsed": true
   },
   "outputs": [],
   "source": []
  }
 ],
 "metadata": {
  "kernelspec": {
   "display_name": "Python 3",
   "language": "python",
   "name": "python3"
  },
  "language_info": {
   "codemirror_mode": {
    "name": "ipython",
    "version": 3
   },
   "file_extension": ".py",
   "mimetype": "text/x-python",
   "name": "python",
   "nbconvert_exporter": "python",
   "pygments_lexer": "ipython3",
   "version": "3.6.3"
  }
 },
 "nbformat": 4,
 "nbformat_minor": 2
}
