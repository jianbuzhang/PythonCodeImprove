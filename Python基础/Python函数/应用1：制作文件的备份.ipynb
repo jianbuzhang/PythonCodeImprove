{
 "cells": [
  {
   "cell_type": "code",
   "execution_count": 3,
   "metadata": {},
   "outputs": [
    {
     "name": "stdout",
     "output_type": "stream",
     "text": [
      "请输入要拷贝的文件名称：writeAndRead.txt\n"
     ]
    }
   ],
   "source": [
    "# 应用1：制作文件的备份\n",
    "# 任务描述：输入文件的名字，然后程序自动完成对文件进行备份\n",
    "\n",
    "#coding=utf-8\n",
    "\n",
    "oldFileName=input(\"请输入要拷贝的文件名称：\")\n",
    "oldFile=open(oldFileName,'r');\n",
    "\n",
    "# 如果要打开文件\n",
    "if oldFile:\n",
    "    #提取文件的后缀\n",
    "    fileFlagNum=oldFileName.rfind('.')\n",
    "    if fileFlagNum >0:\n",
    "        fileFlag = oldFileName[fileFlagNum:]\n",
    "    \n",
    "    # 组织新的文件名字\n",
    "    newFileName = oldFileName[:fileFlagNum]+'[复件]'+fileFlag\n",
    "    \n",
    "    #创建新文件\n",
    "    newFile=open(newFileName,'w')\n",
    "    \n",
    "    #把旧文件中的数据，一行一行的进行复制到新文件中\n",
    "    for lineCount in oldFile.readlines():\n",
    "        newFile.write(lineCount)\n",
    "    \n",
    "    #关闭文件\n",
    "    oldFile.close()\n",
    "    newFile.close()"
   ]
  },
  {
   "cell_type": "code",
   "execution_count": null,
   "metadata": {
    "collapsed": true
   },
   "outputs": [],
   "source": []
  }
 ],
 "metadata": {
  "kernelspec": {
   "display_name": "Python 3",
   "language": "python",
   "name": "python3"
  },
  "language_info": {
   "codemirror_mode": {
    "name": "ipython",
    "version": 3
   },
   "file_extension": ".py",
   "mimetype": "text/x-python",
   "name": "python",
   "nbconvert_exporter": "python",
   "pygments_lexer": "ipython3",
   "version": "3.6.3"
  }
 },
 "nbformat": 4,
 "nbformat_minor": 2
}
