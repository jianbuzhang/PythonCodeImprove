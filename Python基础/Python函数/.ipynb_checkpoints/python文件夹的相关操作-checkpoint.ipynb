{
 "cells": [
  {
   "cell_type": "code",
   "execution_count": 1,
   "metadata": {},
   "outputs": [
    {
     "data": {
      "text/plain": [
       "'F:\\\\2_EngineerPractice\\\\8_优达无人驾驶工程师课程\\\\1_CARND官方资源整理\\\\CarND_AutoDriveProgram\\\\PythonCodeImprove\\\\Python基础\\\\Python函数'"
      ]
     },
     "execution_count": 1,
     "metadata": {},
     "output_type": "execute_result"
    }
   ],
   "source": [
    "#文件夹的相关操作\n",
    "'''\n",
    "实际开发红，有时需要用程序的方式对文件夹进行一定的操作，比如创建、删除等\n",
    "就像对文件操作需要os模块一样，如果要操作文件夹，同样需要os模块\n",
    "'''\n",
    "import os\n",
    "\n",
    "#创建文件夹\n",
    "os.mkdir(\"张山\")\n",
    "\n",
    "#获取当前目录\n",
    "os.getcwd()"
   ]
  },
  {
   "cell_type": "code",
   "execution_count": null,
   "metadata": {
    "collapsed": true
   },
   "outputs": [],
   "source": []
  }
 ],
 "metadata": {
  "kernelspec": {
   "display_name": "Python 3",
   "language": "python",
   "name": "python3"
  },
  "language_info": {
   "codemirror_mode": {
    "name": "ipython",
    "version": 3
   },
   "file_extension": ".py",
   "mimetype": "text/x-python",
   "name": "python",
   "nbconvert_exporter": "python",
   "pygments_lexer": "ipython3",
   "version": "3.6.3"
  }
 },
 "nbformat": 4,
 "nbformat_minor": 2
}
