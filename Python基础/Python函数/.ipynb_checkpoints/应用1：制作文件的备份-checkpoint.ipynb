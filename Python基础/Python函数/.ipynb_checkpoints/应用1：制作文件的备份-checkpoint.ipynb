{
 "cells": [
  {
   "cell_type": "code",
   "execution_count": 1,
   "metadata": {},
   "outputs": [
    {
     "name": "stdout",
     "output_type": "stream",
     "text": [
      "请输入要拷贝的文件名称：writeAndRead\n"
     ]
    },
    {
     "ename": "NameError",
     "evalue": "name 'r' is not defined",
     "output_type": "error",
     "traceback": [
      "\u001b[1;31m---------------------------------------------------------------------------\u001b[0m",
      "\u001b[1;31mNameError\u001b[0m                                 Traceback (most recent call last)",
      "\u001b[1;32m<ipython-input-1-bf0dc6e77095>\u001b[0m in \u001b[0;36m<module>\u001b[1;34m()\u001b[0m\n\u001b[0;32m      5\u001b[0m \u001b[1;33m\u001b[0m\u001b[0m\n\u001b[0;32m      6\u001b[0m \u001b[0moldFileName\u001b[0m\u001b[1;33m=\u001b[0m\u001b[0minput\u001b[0m\u001b[1;33m(\u001b[0m\u001b[1;34m\"请输入要拷贝的文件名称：\"\u001b[0m\u001b[1;33m)\u001b[0m\u001b[1;33m\u001b[0m\u001b[0m\n\u001b[1;32m----> 7\u001b[1;33m \u001b[0moldFile\u001b[0m\u001b[1;33m=\u001b[0m\u001b[0mopen\u001b[0m\u001b[1;33m(\u001b[0m\u001b[0moldFileName\u001b[0m\u001b[1;33m,\u001b[0m\u001b[0mr\u001b[0m\u001b[1;33m)\u001b[0m\u001b[1;33m;\u001b[0m\u001b[1;33m\u001b[0m\u001b[0m\n\u001b[0m\u001b[0;32m      8\u001b[0m \u001b[1;33m\u001b[0m\u001b[0m\n\u001b[0;32m      9\u001b[0m \u001b[1;31m# 如果要打开文件\u001b[0m\u001b[1;33m\u001b[0m\u001b[1;33m\u001b[0m\u001b[0m\n",
      "\u001b[1;31mNameError\u001b[0m: name 'r' is not defined"
     ]
    }
   ],
   "source": [
    "# 应用1：制作文件的备份\n",
    "# 任务描述：输入文件的名字，然后程序自动完成对文件进行备份\n",
    "\n",
    "#coding=utf-8\n",
    "\n",
    "oldFileName=input(\"请输入要拷贝的文件名称：\")\n",
    "oldFile=open(oldFileName,'r');\n",
    "\n",
    "# 如果要打开文件\n",
    "if oldFile:\n",
    "    #提取文件的后缀\n",
    "    fileFlagNum=oldFileName.rfind('.')\n",
    "    if fileFlagNum >0:\n",
    "        fileFlag = oldFileName[fileFlagNum:]\n",
    "    \n",
    "    # 组织新的文件名字\n",
    "    newFileName = oldFileName[:fileFlagNum]+'[复件]'+fileFlag\n",
    "    \n",
    "    #创建新文件\n",
    "    newFile=open(newFileName,'w')\n",
    "    \n",
    "    #把旧文件中的数据，一行一行的进行复制到新文件中\n",
    "    for lineCount in oldFile.readlines():\n",
    "        newFile.write(lineCount)\n",
    "    \n",
    "    #关闭文件\n",
    "    oldFile.close()\n",
    "    newFile.close()"
   ]
  },
  {
   "cell_type": "code",
   "execution_count": null,
   "metadata": {
    "collapsed": true
   },
   "outputs": [],
   "source": []
  }
 ],
 "metadata": {
  "kernelspec": {
   "display_name": "Python 3",
   "language": "python",
   "name": "python3"
  },
  "language_info": {
   "codemirror_mode": {
    "name": "ipython",
    "version": 3
   },
   "file_extension": ".py",
   "mimetype": "text/x-python",
   "name": "python",
   "nbconvert_exporter": "python",
   "pygments_lexer": "ipython3",
   "version": "3.6.3"
  }
 },
 "nbformat": 4,
 "nbformat_minor": 2
}
