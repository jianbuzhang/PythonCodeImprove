{
 "cells": [
  {
   "cell_type": "code",
   "execution_count": 14,
   "metadata": {},
   "outputs": [
    {
     "name": "stdout",
     "output_type": "stream",
     "text": [
      "ni hao,python\n"
     ]
    }
   ],
   "source": [
    "# 文件操作、综合应用\n",
    "# 打开文件\n",
    "f1=open('F:\\\\2_EngineerPractice\\\\8_优达无人驾驶工程师课程\\\\1_CARND官方资源整理\\\\CarND_AutoDriveProgram\\\\PythonCodeImprove\\\\Python基础\\\\Python函数\\\\fileOper.txt','w')\n",
    "\n",
    "\n",
    "'''\n",
    "访问模式说明\n",
    "r\t以只读方式打开文件。文件的指针将会放在文件的开头。这是默认模式。\n",
    "w\t打开一个文件只用于写入。如果该文件已存在则将其覆盖。如果该文件不存在，创建新文件。\n",
    "a\t打开一个文件用于追加。如果该文件已存在，文件指针将会放在文件的结尾。也就是说，新的内容将会被写入到已有内容之后。如果该文件不存在，创建新文件进行写入。\n",
    "rb\t以二进制格式打开一个文件用于只读。文件指针将会放在文件的开头。这是默认模式。\n",
    "wb\t以二进制格式打开一个文件只用于写入。如果该文件已存在则将其覆盖。如果该文件不存在，创建新文件。\n",
    "ab\t以二进制格式打开一个文件用于追加。如果该文件已存在，文件指针将会放在文件的结尾。也就是说，新的内容将会被写入到已有内容之后。如果该文件不存在，创建新文件进行写入。\n",
    "r+\t打开一个文件用于读写。文件指针将会放在文件的开头。\n",
    "w+\t打开一个文件用于读写。如果该文件已存在则将其覆盖。如果该文件不存在，创建新文件。\n",
    "a+\t打开一个文件用于读写。如果该文件已存在，文件指针将会放在文件的结尾。文件打开时会是追加模式。如果该文件不存在，创建新文件用于读写。\n",
    "rb+\t以二进制格式打开一个文件用于读写。文件指针将会放在文件的开头。\n",
    "wb+\t以二进制格式打开一个文件用于读写。如果该文件已存在则将其覆盖。如果该文件不存在，创建新文件。\n",
    "ab+\t以二进制格式打开一个文件用于追加。如果该文件已存在，文件指针将会放在文件的结尾。如果该文件不存在，创建新文件用于读写。\n",
    "'''\n",
    "\n",
    "# 关闭文件\n",
    "f2=open('F:\\\\2_EngineerPractice\\\\8_优达无人驾驶工程师课程\\\\1_CARND官方资源整理\\\\CarND_AutoDriveProgram\\\\PythonCodeImprove\\\\Python基础\\\\Python函数\\\\fileOper2.txt','w')\n",
    "f2.close()\n",
    "\n",
    "# 文件的写入\n",
    "f3=open('F:\\\\2_EngineerPractice\\\\8_优达无人驾驶工程师课程\\\\1_CARND官方资源整理\\\\CarND_AutoDriveProgram\\\\PythonCodeImprove\\\\Python基础\\\\Python函数\\\\writeAndRead.txt','w')\n",
    "f3.write('ni hao,python')\n",
    "f3.close()\n",
    "\n",
    "# 文件的读出\n",
    "f4=open('F:\\\\2_EngineerPractice\\\\8_优达无人驾驶工程师课程\\\\1_CARND官方资源整理\\\\CarND_AutoDriveProgram\\\\PythonCodeImprove\\\\Python基础\\\\Python函数\\\\writeAndRead.txt','r+')\n",
    "content=f4.read()\n",
    "print(content)"
   ]
  },
  {
   "cell_type": "code",
   "execution_count": null,
   "metadata": {
    "collapsed": true
   },
   "outputs": [],
   "source": []
  }
 ],
 "metadata": {
  "kernelspec": {
   "display_name": "Python 3",
   "language": "python",
   "name": "python3"
  },
  "language_info": {
   "codemirror_mode": {
    "name": "ipython",
    "version": 3
   },
   "file_extension": ".py",
   "mimetype": "text/x-python",
   "name": "python",
   "nbconvert_exporter": "python",
   "pygments_lexer": "ipython3",
   "version": "3.6.3"
  }
 },
 "nbformat": 4,
 "nbformat_minor": 2
}
