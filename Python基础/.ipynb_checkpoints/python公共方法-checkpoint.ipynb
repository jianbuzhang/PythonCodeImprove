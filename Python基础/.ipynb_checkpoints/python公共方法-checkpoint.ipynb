{
 "cells": [
  {
   "cell_type": "code",
   "execution_count": 15,
   "metadata": {},
   "outputs": [
    {
     "name": "stdout",
     "output_type": "stream",
     "text": [
      "[1, 2, 3, 4, 2]\n",
      "[1, 3, 4, 1, 3, 4, 1, 3, 4]\n",
      "false\n",
      "true\n",
      "False\n"
     ]
    },
    {
     "data": {
      "text/plain": [
       "3095"
      ]
     },
     "execution_count": 15,
     "metadata": {},
     "output_type": "execute_result"
    }
   ],
   "source": [
    "# python公共方法\n",
    "import operator\n",
    "\n",
    "# 运算符\n",
    "\n",
    "# +运算符 描述：合并    支持的数据类型：字符串、列表、元组\n",
    "a=[1,2,3]+[4,2]\n",
    "print(a)\n",
    "\n",
    "# *运算符  描述：复制    支持的数据类型：字符串、列表、元组\n",
    "a=[1,3,4]\n",
    "b=a*3\n",
    "print(b)\n",
    "\n",
    "# in运算符  描述：元素是否存在    支持的数据类型：字符串、列表、元组、字典\n",
    "if 9 in b:\n",
    "    print('true')\n",
    "else:\n",
    "    print('false')\n",
    "    \n",
    "# not in 运算符  描述：元素是否不存在    支持的数据类型：字符串、列表、元组、字典\n",
    "if 9 not in b:\n",
    "    print('true')\n",
    "else:\n",
    "    print('false')\n",
    "    \n",
    "# python内置函数\n",
    "\n",
    "'''\n",
    "1\tcmp(item1, item2)\t比较两个值\n",
    "2\tlen(item)\t计算容器中元素个数\n",
    "3\tmax(item)\t返回容器中元素最大值\n",
    "4\tmin(item)\t返回容器中元素最小值\n",
    "5\tdel(item)\t删除变量\n",
    "'''\n",
    "# 比较函数应用   注意：python3已经没有了cmp函数，只需要直接将两个数据对比即可\n",
    "a=[1,4,7]\n",
    "b=[1,2,9]\n",
    "print(a<b)\n",
    "\n",
    "# max函数\n",
    "max([1,456,3095,11])\n",
    "\n",
    "# 更多函数略"
   ]
  },
  {
   "cell_type": "code",
   "execution_count": null,
   "metadata": {
    "collapsed": true
   },
   "outputs": [],
   "source": []
  }
 ],
 "metadata": {
  "kernelspec": {
   "display_name": "Python 3",
   "language": "python",
   "name": "python3"
  },
  "language_info": {
   "codemirror_mode": {
    "name": "ipython",
    "version": 3
   },
   "file_extension": ".py",
   "mimetype": "text/x-python",
   "name": "python",
   "nbconvert_exporter": "python",
   "pygments_lexer": "ipython3",
   "version": "3.6.3"
  }
 },
 "nbformat": 4,
 "nbformat_minor": 2
}
