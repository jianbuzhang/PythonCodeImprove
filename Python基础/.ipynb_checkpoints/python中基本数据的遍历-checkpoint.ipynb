{
 "cells": [
  {
   "cell_type": "code",
   "execution_count": 12,
   "metadata": {},
   "outputs": [
    {
     "name": "stdout",
     "output_type": "stream",
     "text": [
      "h e l l o   w o r l d 1 2 3 4 5 1 2 3 4 5 name value: zhangshan\n",
      "sex value: m\n",
      "zhangshan\n",
      "m\n",
      "key=name,value=zhangshan\n",
      "key=sex,value=m\n"
     ]
    }
   ],
   "source": [
    "# python中基本数据的遍历\n",
    "#字符串的遍历\n",
    "a_str='hello world'\n",
    "for char in a_str:\n",
    "    print(char,end=' ')\n",
    "\n",
    "#列表遍历\n",
    "a_list=[1,2,3,4,5]\n",
    "for num in a_list:\n",
    "    print(num,end=' ')\n",
    "\n",
    "#元组遍历\n",
    "a_turple=(1,2,3,4,5)\n",
    "for num in a_turple:\n",
    "    print(num,end=' ')\n",
    "    \n",
    "#字典遍历\n",
    "#1.遍历字典的key(键)\n",
    "dict={'name':'zhangshan','sex':'m'}\n",
    "for key in dict.keys():\n",
    "    print(key,'value:',dict[key])\n",
    "    \n",
    "#2.遍历字典的value(值)\n",
    "for value in dict.values():\n",
    "    print(value)\n",
    "    \n",
    "#3.遍历字典的key-value值（键值对）\n",
    "for key,value in dict.items():\n",
    "    print(\"key=%s,value=%s\"%(key,value))\n",
    "\n"
   ]
  },
  {
   "cell_type": "code",
   "execution_count": null,
   "metadata": {
    "collapsed": true
   },
   "outputs": [],
   "source": []
  }
 ],
 "metadata": {
  "kernelspec": {
   "display_name": "Python 3",
   "language": "python",
   "name": "python3"
  },
  "language_info": {
   "codemirror_mode": {
    "name": "ipython",
    "version": 3
   },
   "file_extension": ".py",
   "mimetype": "text/x-python",
   "name": "python",
   "nbconvert_exporter": "python",
   "pygments_lexer": "ipython3",
   "version": "3.6.3"
  },
  "widgets": {
   "application/vnd.jupyter.widget-state+json": {
    "state": {},
    "version_major": 2,
    "version_minor": 0
   }
  }
 },
 "nbformat": 4,
 "nbformat_minor": 2
}
