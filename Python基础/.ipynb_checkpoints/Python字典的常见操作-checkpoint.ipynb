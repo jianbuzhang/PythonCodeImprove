{
 "cells": [
  {
   "cell_type": "code",
   "execution_count": 8,
   "metadata": {},
   "outputs": [
    {
     "name": "stdout",
     "output_type": "stream",
     "text": [
      "字典为：{'name': '金建', 'id': '100', 'sex': 'f', 'address': '亚洲中国苏州'}\n",
      "金建\n",
      "请输入新的学号：333\n",
      "修改后的id为:333\n",
      "请输入新的学号2342\n",
      "添加之后的id为：333\n"
     ]
    }
   ],
   "source": [
    "#### Python数据之 字典操作\n",
    "# 变量info为字典类型\n",
    "info = {'name':'金建','id':'100','sex':'f','address':'亚洲中国苏州'}\n",
    "print('字典为：%s'%info)\n",
    "'''\n",
    "字典和列表一样，也能够存储多个数据\n",
    "列表中找某个元素时，是根据下标进行的\n",
    "字典中找某个元素时，是根据'名字'（就是冒号:前面的那个值，例如上面代码中的'name'、'id'、'sex'）\n",
    "字典的每个元素由2部分组成，键:值。例如 'name':'班长' ,'name'为键，'班长'为值\n",
    "'''\n",
    "\n",
    "# 根据键访问值\n",
    "print(info['name'])\n",
    "\n",
    "#字典的常见操作\n",
    "#修改元素\n",
    "newID=input(\"请输入新的学号：\")\n",
    "info['id']=int(newID)\n",
    "print('修改后的id为:%d'%info['id'])\n",
    "\n",
    "#添加元素\n",
    "newID1=input('请输入新的学号2')\n",
    "info['id1']=int(newID1)\n",
    "print('添加之后的id为：%d'%info['id1'])\n",
    "\n",
    "# 删除元素\n",
    "del info['name']\n",
    "\n",
    "# 清空整个字典\n",
    "info.clear()\n",
    "\n",
    "\n",
    "\n"
   ]
  },
  {
   "cell_type": "code",
   "execution_count": null,
   "metadata": {
    "collapsed": true
   },
   "outputs": [],
   "source": []
  }
 ],
 "metadata": {
  "kernelspec": {
   "display_name": "Python 3",
   "language": "python",
   "name": "python3"
  },
  "language_info": {
   "codemirror_mode": {
    "name": "ipython",
    "version": 3
   },
   "file_extension": ".py",
   "mimetype": "text/x-python",
   "name": "python",
   "nbconvert_exporter": "python",
   "pygments_lexer": "ipython3",
   "version": "3.6.3"
  }
 },
 "nbformat": 4,
 "nbformat_minor": 2
}
