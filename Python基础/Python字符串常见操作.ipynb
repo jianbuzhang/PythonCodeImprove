{
 "cells": [
  {
   "cell_type": "code",
   "execution_count": null,
   "metadata": {
    "collapsed": true
   },
   "outputs": [],
   "source": [
    "# 字符串的find测试\n",
    "print(\"字符串的find测试\")\n",
    "mystr=\"hello world itcast and itcastcpp\"\n",
    "print(mystr.find(\"world\"))\n",
    "print(\"--------------------------\")\n",
    "\n",
    "# 字符串的count测试,返回str在start和end之间出现的次数\n",
    "print(mystr.count(\"o\",0,len(mystr)))\n",
    "print(\"--------------------------\")\n",
    "\n",
    "# replace测试\n",
    "mystr.replace(\"o\",\"A\",mystr.count(\"o\"))\n",
    "print(mystr)\n",
    "print(\"--------------------------\")\n",
    "\n",
    "# capitalize测试  将字符串的第一个字符变大写\n",
    "print(mystr.capitalize())\n",
    "print(\"--------------------------\")\n",
    "\n",
    "\n"
   ]
  }
 ],
 "metadata": {
  "kernelspec": {
   "display_name": "Python 3",
   "language": "python",
   "name": "python3"
  },
  "language_info": {
   "codemirror_mode": {
    "name": "ipython",
    "version": 3
   },
   "file_extension": ".py",
   "mimetype": "text/x-python",
   "name": "python",
   "nbconvert_exporter": "python",
   "pygments_lexer": "ipython3",
   "version": "3.6.3"
  }
 },
 "nbformat": 4,
 "nbformat_minor": 2
}
