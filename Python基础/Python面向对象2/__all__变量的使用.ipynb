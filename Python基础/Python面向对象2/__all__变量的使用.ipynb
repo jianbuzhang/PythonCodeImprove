{
 "cells": [
  {
   "cell_type": "code",
   "execution_count": 1,
   "metadata": {},
   "outputs": [
    {
     "name": "stdout",
     "output_type": "stream",
     "text": [
      "-----Test类中的test函数----\n",
      "------test1函数-------\n",
      "------test2函数------\n"
     ]
    }
   ],
   "source": [
    "# __all__变量的使用\n",
    "\n",
    "#1.\n",
    "from test_noAll import  *\n",
    "\n",
    "a=Test()\n",
    "a.test()\n",
    "\n",
    "test1()\n",
    "test2()"
   ]
  },
  {
   "cell_type": "code",
   "execution_count": 2,
   "metadata": {},
   "outputs": [
    {
     "name": "stdout",
     "output_type": "stream",
     "text": [
      "-----Test类中的test函数----\n",
      "------test1函数-------\n",
      "------test2函数------\n"
     ]
    }
   ],
   "source": [
    "# __all__变量的使用\n",
    "\n",
    "#2.\n",
    "from test_All import *\n",
    "\n",
    "a=Test()\n",
    "a.test()\n",
    "\n",
    "test1()\n",
    "test2()"
   ]
  },
  {
   "cell_type": "code",
   "execution_count": null,
   "metadata": {
    "collapsed": true
   },
   "outputs": [],
   "source": []
  }
 ],
 "metadata": {
  "kernelspec": {
   "display_name": "Python 3",
   "language": "python",
   "name": "python3"
  },
  "language_info": {
   "codemirror_mode": {
    "name": "ipython",
    "version": 3
   },
   "file_extension": ".py",
   "mimetype": "text/x-python",
   "name": "python",
   "nbconvert_exporter": "python",
   "pygments_lexer": "ipython3",
   "version": "3.6.3"
  }
 },
 "nbformat": 4,
 "nbformat_minor": 2
}
