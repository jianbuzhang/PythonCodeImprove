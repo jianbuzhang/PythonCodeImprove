{
 "cells": [
  {
   "cell_type": "code",
   "execution_count": 2,
   "metadata": {
    "collapsed": true
   },
   "outputs": [],
   "source": [
    "#练习：设计类\n",
    "\n",
    "#定义车类\n",
    "class Car(object):\n",
    "    #定义车的方法\n",
    "    def move(self):\n",
    "        print(\"-----车在移动------\")\n",
    "    \n",
    "    def stop(self):\n",
    "        print(\"-----停车-----\")\n",
    "\n",
    "#定义一个销售车的店类\n",
    "class CarStore(object):\n",
    "    def order(self):\n",
    "        self.car=Car()  #找一辆车\n",
    "        self.car.move()\n",
    "        self.car.stop()\n",
    "        \n",
    "'''\n",
    "上面的4s店，只能销售那一种类型的车\n",
    "如果这个是个销售北京现代品牌的车，比如伊兰特、索纳塔等，该怎样做呢？\n",
    "'''\n",
    "\n",
    "#2. 设计一个卖北京现代车的4S店\n",
    "# 定义伊兰特车类\n",
    "class YilanteCar(object):\n",
    "\n",
    "    # 定义车的方法\n",
    "    def move(self):\n",
    "        print(\"---车在移动---\")\n",
    "\n",
    "    def stop(self):\n",
    "        print(\"---停车---\")\n",
    "\n",
    "# 定义索纳塔车类\n",
    "class SuonataCar(object):\n",
    "\n",
    "    # 定义车的方法\n",
    "    def move(self):\n",
    "        print(\"---车在移动---\")\n",
    "\n",
    "    def stop(self):\n",
    "        print(\"---停车---\")\n",
    "\n",
    "# 定义一个销售北京现代车的店类\n",
    "class CarStore(object):\n",
    "\n",
    "    def order(self, typeName):\n",
    "        #根据客户的不同要求，生成不同的类型的车\n",
    "        if typeName == \"伊兰特\":\n",
    "            car = YilanteCar()\n",
    "        elif typeName == \"索纳塔\":\n",
    "            car = SuonataCar()\n",
    "        return car"
   ]
  },
  {
   "cell_type": "code",
   "execution_count": null,
   "metadata": {
    "collapsed": true
   },
   "outputs": [],
   "source": []
  }
 ],
 "metadata": {
  "kernelspec": {
   "display_name": "Python 3",
   "language": "python",
   "name": "python3"
  },
  "language_info": {
   "codemirror_mode": {
    "name": "ipython",
    "version": 3
   },
   "file_extension": ".py",
   "mimetype": "text/x-python",
   "name": "python",
   "nbconvert_exporter": "python",
   "pygments_lexer": "ipython3",
   "version": "3.6.3"
  }
 },
 "nbformat": 4,
 "nbformat_minor": 2
}
