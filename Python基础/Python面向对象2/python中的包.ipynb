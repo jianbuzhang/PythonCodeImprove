{
 "cells": [
  {
   "cell_type": "markdown",
   "metadata": {},
   "source": [
    "python中的包\n",
    "1.包是一个有层次的文件目录结构，可以使用import导入包，或者使用from + import来导入包中的部分模块；\n",
    "2.包目录下为首的一个文件是__init__.py;然后是一些模块文件和子目录；\n",
    "  如果子目录中也有__init__.py,那么它就是这个包的子包了；\n",
    "3.当文件夹当做包使用时，文件夹要包含__init__.py文件，这样可避免将文件夹名当做普通的字符串。不过__init__.py文件可为空；\n",
    "4.__init__.py的功能：用来进行包的某些初始化工作，或者设置__all__值；\n"
   ]
  },
  {
   "cell_type": "code",
   "execution_count": null,
   "metadata": {
    "collapsed": true
   },
   "outputs": [],
   "source": []
  }
 ],
 "metadata": {
  "kernelspec": {
   "display_name": "Python 3",
   "language": "python",
   "name": "python3"
  },
  "language_info": {
   "codemirror_mode": {
    "name": "ipython",
    "version": 3
   },
   "file_extension": ".py",
   "mimetype": "text/x-python",
   "name": "python",
   "nbconvert_exporter": "python",
   "pygments_lexer": "ipython3",
   "version": "3.6.4"
  }
 },
 "nbformat": 4,
 "nbformat_minor": 2
}
