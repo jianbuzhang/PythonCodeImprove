{
 "cells": [
  {
   "cell_type": "code",
   "execution_count": 2,
   "metadata": {},
   "outputs": [
    {
     "name": "stdout",
     "output_type": "stream",
     "text": [
      "1.4142135623730951\n"
     ]
    }
   ],
   "source": [
    "# python模块操作\n",
    "#python的模块操作用import实现，类似于c++中的#include,或者java中的import\n",
    "\n",
    "import math\n",
    "print(math.sqrt(2)) #sqrt函数是计算平方根函数"
   ]
  },
  {
   "cell_type": "code",
   "execution_count": 3,
   "metadata": {},
   "outputs": [
    {
     "name": "stdout",
     "output_type": "stream",
     "text": [
      "1.4142135623730951\n"
     ]
    }
   ],
   "source": [
    "#有时候我们只需要用到模块中的某个函数，只需要引入该函数即可\n",
    "from math import sqrt\n",
    "print(sqrt(2))"
   ]
  },
  {
   "cell_type": "code",
   "execution_count": 5,
   "metadata": {},
   "outputs": [
    {
     "name": "stdout",
     "output_type": "stream",
     "text": [
      "start\n",
      "five second\n"
     ]
    }
   ],
   "source": [
    "# as\n",
    "#这提供了一个简单的方法来导入一个模块中的所有项目，\n",
    "#但是这种声明不应该被过多地使用\n",
    "\n",
    "import time as tt\n",
    "print(\"start\")\n",
    "tt.sleep(5)\n",
    "print(\"five second\")"
   ]
  },
  {
   "cell_type": "code",
   "execution_count": 7,
   "metadata": {},
   "outputs": [
    {
     "name": "stdout",
     "output_type": "stream",
     "text": [
      "start\n",
      "stop\n"
     ]
    }
   ],
   "source": [
    "# as\n",
    "#这提供了一个简单的方法来导入一个模块中的所有项目，\n",
    "#但是这种声明不应该被过多地使用\n",
    "\n",
    "from time import sleep as sp\n",
    "print(\"start\")\n",
    "sp(3)\n",
    "print(\"stop\")"
   ]
  },
  {
   "cell_type": "markdown",
   "metadata": {},
   "source": [
    "# python 定位模块\n",
    "\n",
    "当你导入一个模块，Python解析器对模块位置的搜索顺序是：\n",
    "\n",
    "当前目录\n",
    "如果不在当前目录，Python则搜索在shell变量PYTHONPATH下的每个目录。\n",
    "如果都找不到，Python会察看默认路径。UNIX下，默认路径一般为/usr/local/lib/python/\n",
    "模块搜索路径存储在system模块的sys.path变量中。变量里包含当前目录，PYTHONPATH和由安装过程决定的默认目录。"
   ]
  },
  {
   "cell_type": "code",
   "execution_count": null,
   "metadata": {
    "collapsed": true
   },
   "outputs": [],
   "source": []
  }
 ],
 "metadata": {
  "kernelspec": {
   "display_name": "Python 3",
   "language": "python",
   "name": "python3"
  },
  "language_info": {
   "codemirror_mode": {
    "name": "ipython",
    "version": 3
   },
   "file_extension": ".py",
   "mimetype": "text/x-python",
   "name": "python",
   "nbconvert_exporter": "python",
   "pygments_lexer": "ipython3",
   "version": "3.6.3"
  }
 },
 "nbformat": 4,
 "nbformat_minor": 2
}
