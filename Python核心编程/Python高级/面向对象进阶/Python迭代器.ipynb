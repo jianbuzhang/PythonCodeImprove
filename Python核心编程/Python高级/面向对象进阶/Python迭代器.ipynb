{
 "cells": [
  {
   "cell_type": "markdown",
   "metadata": {},
   "source": [
    "## Python迭代器\n",
    "迭代是访问集合元素的一种方式。迭代器是一个可以记住遍历的位置的对象；\n",
    "迭代你对象从集合的第一个元素开始访问，直到所有的元素被访问完结束。\n",
    "迭代器只能往前不能后退；\n",
    "\n",
    "### 1.可迭代对象\n",
    "以直接作用于for循环的数据类型有以下几种：\n",
    "一类是集合数据类型，如list、tuple、dict、set、str等；\n",
    "一类是generaotr，包括生成器和带yield的generaotr function.\n",
    "这些可以直接用于for循环的对象统称为可迭代对象：Iterable.\n"
   ]
  },
  {
   "cell_type": "code",
   "execution_count": 5,
   "metadata": {},
   "outputs": [
    {
     "name": "stdout",
     "output_type": "stream",
     "text": [
      "True\n",
      "True\n",
      "True\n",
      "False\n"
     ]
    }
   ],
   "source": [
    "# 2.判断是否可以迭代\n",
    "# 可以使用isinstance()判断一个对象是否是Iterable对象：\n",
    "\n",
    "from collections import Iterable  #从库中导入迭代器包\n",
    "\n",
    "print(isinstance([],Iterable))  #output is True\n",
    "print(isinstance({},Iterable))  #output is True\n",
    "print(isinstance((x for x in range(10)),Iterable))  #output is True\n",
    "print(isinstance(100,Iterable))  #output is False"
   ]
  },
  {
   "cell_type": "markdown",
   "metadata": {},
   "source": [
    "## 迭代器总结\n",
    "1.生成器都是Iterator对象，但是list,dict,str虽然是Iterable，却不是Iterator;\n",
    "2.凡是可作用于for循环的对象都是Iterable类型；\n",
    "3.凡是可作用于next()函数的对象都是Iterator类型；\n",
    "4.集合数据类型如list,dict,str等是Iterable但不是Iterator，不过可以通过iter()函数获得一个Iterator对象；\n"
   ]
  },
  {
   "cell_type": "code",
   "execution_count": null,
   "metadata": {
    "collapsed": true
   },
   "outputs": [],
   "source": []
  }
 ],
 "metadata": {
  "kernelspec": {
   "display_name": "Python 3",
   "language": "python",
   "name": "python3"
  },
  "language_info": {
   "codemirror_mode": {
    "name": "ipython",
    "version": 3
   },
   "file_extension": ".py",
   "mimetype": "text/x-python",
   "name": "python",
   "nbconvert_exporter": "python",
   "pygments_lexer": "ipython3",
   "version": "3.6.3"
  }
 },
 "nbformat": 4,
 "nbformat_minor": 2
}
