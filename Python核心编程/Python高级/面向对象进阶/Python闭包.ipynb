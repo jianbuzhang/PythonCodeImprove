{
 "cells": [
  {
   "cell_type": "code",
   "execution_count": 2,
   "metadata": {},
   "outputs": [
    {
     "name": "stdout",
     "output_type": "stream",
     "text": [
      "----in test1 func----\n",
      "1698731635984\n",
      "1698731635984\n",
      "----in test1 func----\n"
     ]
    }
   ],
   "source": [
    "# python闭包测试\n",
    "\n",
    "# 1.函数引用\n",
    "def test1():\n",
    "    print(\"----in test1 func----\")\n",
    "# 调用函数\n",
    "test1()\n",
    "\n",
    "# 引用函数\n",
    "ret=test1\n",
    "\n",
    "print(id(ret))\n",
    "print(id(test1))\n",
    "\n",
    "#通过引用调用函数\n",
    "ret()"
   ]
  },
  {
   "cell_type": "code",
   "execution_count": 3,
   "metadata": {},
   "outputs": [
    {
     "name": "stdout",
     "output_type": "stream",
     "text": [
      "in test_in函数，number_in is 100\n",
      "120\n",
      "in test_in函数，number_in is 200\n",
      "220\n"
     ]
    }
   ],
   "source": [
    "# 什么是闭包\n",
    "\n",
    "#定义一个函数\n",
    "def test(number):\n",
    "    #在函数内部再定义了一个函数，并且这个函数用到了外边函数的变量，\n",
    "    # 那么将这个函数以及用到的一些变量称之为闭包\n",
    "    def test_in(number_in):\n",
    "        print(\"in test_in函数，number_in is %d\"%number_in)\n",
    "        return number+number_in\n",
    "    return test_in\n",
    "\n",
    "#给test函数赋值，这个20就是给参数number\n",
    "ret=test(20)\n",
    "\n",
    "#注意这里的100其实给参数number_in\n",
    "print(ret(100))\n",
    "\n",
    "#注意这里的200其实给参数number_in\n",
    "print(ret(200))\n",
    "\n"
   ]
  },
  {
   "cell_type": "code",
   "execution_count": 2,
   "metadata": {},
   "outputs": [
    {
     "name": "stdout",
     "output_type": "stream",
     "text": [
      "6\n",
      "7\n",
      "101\n",
      "102\n"
     ]
    }
   ],
   "source": [
    "# 闭包再理解\n",
    "# 内部函数对外部函数作用域里变量的引用（非全部变量），则称内部函数为闭包；\n",
    "\n",
    "#启动Python解释器\n",
    "import closeure\n",
    "c1=closeure.counter(5)\n",
    "print(c1())\n",
    "\n",
    "print(c1())\n",
    "\n",
    "c2=closeure.counter(100)\n",
    "print(c2())\n",
    "print(c2())\n",
    "\n"
   ]
  },
  {
   "cell_type": "code",
   "execution_count": 3,
   "metadata": {},
   "outputs": [
    {
     "name": "stdout",
     "output_type": "stream",
     "text": [
      "6\n",
      "7\n",
      "51\n",
      "52\n",
      "8\n",
      "9\n",
      "53\n",
      "54\n"
     ]
    }
   ],
   "source": [
    "# nonlocal访问外部函数的局部变量\n",
    "# nonlocal关键字用来在函数或其他作用域中使用外层(非全局)变量。\n",
    "\n",
    "def counter(start=0):\n",
    "    def incr():\n",
    "        nonlocal start\n",
    "        start += 1\n",
    "        return start\n",
    "    return incr\n",
    "\n",
    "c1 = counter(5)\n",
    "print(c1())\n",
    "print(c1())\n",
    "\n",
    "c2 = counter(50)\n",
    "print(c2())\n",
    "print(c2())\n",
    "\n",
    "print(c1())\n",
    "print(c1())\n",
    "\n",
    "print(c2())\n",
    "print(c2())"
   ]
  },
  {
   "cell_type": "code",
   "execution_count": 4,
   "metadata": {},
   "outputs": [
    {
     "name": "stdout",
     "output_type": "stream",
     "text": [
      "6\n",
      "25\n"
     ]
    }
   ],
   "source": [
    "# 看一个闭包的实际例子\n",
    "\n",
    "def line_conf(a, b):\n",
    "    def line(x):\n",
    "        return a*x + b\n",
    "    return line\n",
    "\n",
    "line1 = line_conf(1, 1)\n",
    "line2 = line_conf(4, 5)\n",
    "print(line1(5))\n",
    "print(line2(5))"
   ]
  },
  {
   "cell_type": "markdown",
   "metadata": {},
   "source": [
    "## 总结\n",
    "这个例子中，函数line与变量a,b构成闭包。在创建闭包的时候，我们通过line_conf的参数a,b说明了这两个变量的取值，这样，我们就确定了函数的最终形式(y = x + 1和y = 4x + 5)。我们只需要变换参数a,b，就可以获得不同的直线表达函数。由此，我们可以看到，闭包也具有提高代码可复用性的作用。\n",
    "\n",
    "如果没有闭包，我们需要每次创建直线函数的时候同时说明a,b,x。这样，我们就需要更多的参数传递，也减少了代码的可移植性。\n",
    "\n",
    "闭包思考：\n",
    "1.闭包似优化了变量，原来需要类对象完成的工作，闭包也可以完成\n",
    "2.由于闭包引用了外部函数的局部变量，则外部函数的局部变量没有及时释放，消耗内存"
   ]
  },
  {
   "cell_type": "code",
   "execution_count": null,
   "metadata": {
    "collapsed": true
   },
   "outputs": [],
   "source": []
  }
 ],
 "metadata": {
  "kernelspec": {
   "display_name": "Python 3",
   "language": "python",
   "name": "python3"
  },
  "language_info": {
   "codemirror_mode": {
    "name": "ipython",
    "version": 3
   },
   "file_extension": ".py",
   "mimetype": "text/x-python",
   "name": "python",
   "nbconvert_exporter": "python",
   "pygments_lexer": "ipython3",
   "version": "3.6.4"
  }
 },
 "nbformat": 4,
 "nbformat_minor": 2
}
