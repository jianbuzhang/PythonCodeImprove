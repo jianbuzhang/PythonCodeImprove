{
 "cells": [
  {
   "cell_type": "markdown",
   "metadata": {},
   "source": [
    "# 生成器\n",
    "## 什么是生成器\n",
    "   通过列表生成式，我们可以直接创建一个列表。但是，受到内存限制，列表容量肯定是有限的。而且，创建一个包含100万个元素的列表，不仅占用很大的存储空间，如果我们仅仅需要访问前面几个元素，那么后面绝大多数占用的空间都浪费了。所以，如果列表元素可以按照某种算法推算出来，那我们是否可以在循环的过程中不断推出后续的元素呢？这样就不必创建完整的list，从而节省大量的空间。在Python中，这种一边循环一边计算的方式，称为生成器：generator.\n"
   ]
  },
  {
   "cell_type": "code",
   "execution_count": 21,
   "metadata": {},
   "outputs": [
    {
     "name": "stdout",
     "output_type": "stream",
     "text": [
      "[0, 2, 4, 6, 8]\n",
      "<generator object <genexpr> at 0x000001A58F9AF5C8>\n"
     ]
    }
   ],
   "source": [
    "# 创建生成器方法1\n",
    "# 要创建一个生成器，有很多方法。第一种方法很简单，只要把一个列表生成式的[]改为（）\n",
    "# 创建L和G的区别在于最外层的[]和（），L是一个列表，G是一个生成器；\n",
    "#L可以直接打印出来，但是生成器G需要同next()函数逐个打印。\n",
    "\n",
    "L=[x*2 for x in range(5)]\n",
    "print(L)\n",
    "\n",
    "G=(y*2 for y in range(5))\n",
    "print(G)\n",
    "\n",
    "next(G)"
   ]
  },
  {
   "cell_type": "code",
   "execution_count": 26,
   "metadata": {},
   "outputs": [
    {
     "name": "stdout",
     "output_type": "stream",
     "text": [
      "1\n",
      "2\n",
      "4\n",
      "8\n",
      "16\n",
      "32\n",
      "64\n",
      "128\n"
     ]
    },
    {
     "data": {
      "text/plain": [
       "'done'"
      ]
     },
     "execution_count": 26,
     "metadata": {},
     "output_type": "execute_result"
    }
   ],
   "source": [
    "# 创建生成器方法2\n",
    "\n",
    "# generator非常强大，如果推算的算法比较复杂，用类似列表生成式的for循环无法实现时，\n",
    "# 可以用函数来实现\n",
    "# 比如，著名的斐波那契数列（Fibonacci），除第一个和第二个数外，\n",
    "# 任意一个数都可以由前两个数相加得到：\n",
    "# 1,1,2,3,5,8,13,21,34，。。。\n",
    "def fib(times):\n",
    "    n=0\n",
    "    a,b=0,1\n",
    "    while n<times:\n",
    "        print(b)\n",
    "        a=b\n",
    "        b=a+b\n",
    "        n+=1\n",
    "    return 'done'\n",
    "fib(8)"
   ]
  },
  {
   "cell_type": "code",
   "execution_count": 32,
   "metadata": {},
   "outputs": [
    {
     "name": "stdout",
     "output_type": "stream",
     "text": [
      "1\n",
      "2\n",
      "4\n",
      "8\n"
     ]
    }
   ],
   "source": [
    "# 上面的函数和generaotr仅一步之遥，要把fib函数变成generaotr，\n",
    "# 只需要把print(b)改为yield b就可以了\n",
    "\n",
    "def fib(times):\n",
    "    n=0\n",
    "    a,b=0,1\n",
    "    while n<times:\n",
    "        yield(b)\n",
    "        a=b\n",
    "        b=a+b\n",
    "        n+=1\n",
    "    return 'done'\n",
    "F=fib(6)\n",
    "print(next(F))\n",
    "print(next(F))\n",
    "print(next(F))\n",
    "print(next(F))"
   ]
  },
  {
   "cell_type": "markdown",
   "metadata": {},
   "source": [
    "## 总结\n",
    "生成器是这样一个函数，它记住上一次返回时在函数体中的位置；对生成器函数的第二次（或第n次）调用跳转至该函数中间，而上次调用的所有几部变量都保持不变；\n",
    "生成器不仅“记住”了它数据状态，生成器还“记住”了它在流控制结构（在命令式编程中，这种构造不只是数据值）中的位置。\n",
    "生成器的特点：\n",
    "1.节约内存；\n",
    "2.迭代到下一次的调用时，所使用的参数都是第一次保留下的，即是说，在整个所有函数调用的参数都是第一次所调用时保留的，而不是新创建的。"
   ]
  },
  {
   "cell_type": "code",
   "execution_count": null,
   "metadata": {
    "collapsed": true
   },
   "outputs": [],
   "source": []
  }
 ],
 "metadata": {
  "kernelspec": {
   "display_name": "Python 3",
   "language": "python",
   "name": "python3"
  },
  "language_info": {
   "codemirror_mode": {
    "name": "ipython",
    "version": 3
   },
   "file_extension": ".py",
   "mimetype": "text/x-python",
   "name": "python",
   "nbconvert_exporter": "python",
   "pygments_lexer": "ipython3",
   "version": "3.6.3"
  }
 },
 "nbformat": 4,
 "nbformat_minor": 2
}
