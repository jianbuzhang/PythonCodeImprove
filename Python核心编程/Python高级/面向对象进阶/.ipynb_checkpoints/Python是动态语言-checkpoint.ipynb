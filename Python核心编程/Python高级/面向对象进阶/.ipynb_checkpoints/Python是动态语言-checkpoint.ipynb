{
 "cells": [
  {
   "cell_type": "markdown",
   "metadata": {},
   "source": [
    "## Python是动态语言\n",
    "### 1.动态语言的定义\n",
    "   动态编程语言是高级程序设计语言的一个类别，在计算机领域已被广泛应用。它是一类在运行时可以改变其结构的语言：例如新的函数、对象、甚至是代码可以被引进，已有的函数可以被删除或是其他结构的改变。\n",
    "   动态语言目前很有活力，例如JavaScript便是动态语言，除此之外如PHP、Ruby、Python都是动态语言，而C、C++等语言不是动态语言。"
   ]
  },
  {
   "cell_type": "code",
   "execution_count": 2,
   "metadata": {},
   "outputs": [],
   "source": [
    "class Person(object):\n",
    "    def __init__(self,name=None,age=None):\n",
    "        self.name=name\n",
    "        self.age=age\n",
    "P=Person(\"小明\",\"24\")"
   ]
  },
  {
   "cell_type": "code",
   "execution_count": 3,
   "metadata": {},
   "outputs": [
    {
     "name": "stdout",
     "output_type": "stream",
     "text": [
      "None\n"
     ]
    }
   ],
   "source": [
    "# 运行的过程中给类绑定（添加）属性\n",
    "# 通过直接给类绑定属性\n",
    "Person.sex=None\n",
    "P1=Person(\"小丽\",\"25\")\n",
    "print(P1.sex)\n",
    "\n"
   ]
  },
  {
   "cell_type": "code",
   "execution_count": 7,
   "metadata": {},
   "outputs": [
    {
     "name": "stdout",
     "output_type": "stream",
     "text": [
      "eat food\n",
      "老王在移动, 速度是 180 km/h\n",
      "0\n",
      "100\n",
      "----static method----\n"
     ]
    }
   ],
   "source": [
    "# 运行的过程中给类绑定（添加）方法\n",
    "# 既然给类添加方法，是使用类名.方法名=xxx，那么给对象添加一个方法也是类似的对象.方法名=xxx\n",
    "\n",
    "import types\n",
    "\n",
    "#定义了一个类\n",
    "class Person(object):\n",
    "    num=0\n",
    "    def __init__(self,name=None,age=None):\n",
    "        self.name=name\n",
    "        self.age=age\n",
    "    def eat(self):\n",
    "        print(\"eat food\")\n",
    "\n",
    "# 定义一个实例方法\n",
    "def run(self,speed):\n",
    "    print(\"%s在移动, 速度是 %d km/h\"%(self.name, speed))\n",
    "    \n",
    "# 定义一个类方法\n",
    "@classmethod\n",
    "def testClass(cls):\n",
    "    cls.num=100\n",
    "\n",
    "# 定义一个静态方法\n",
    "@staticmethod\n",
    "def testStatic():\n",
    "    print(\"----static method----\")\n",
    "\n",
    "# 创建一个实例对象\n",
    "P=Person(\"老王\",24)\n",
    "#调用在class中的方法\n",
    "P.eat()\n",
    "\n",
    "#给这个对象添加实例方法\n",
    "P.run=types.MethodType(run,P)\n",
    "#调用实例方法\n",
    "P.run(180)\n",
    "\n",
    "#给Person类绑定类方法\n",
    "Person.testClass=testClass\n",
    "\n",
    "#调用类方法\n",
    "print(Person.num)\n",
    "Person.testClass()\n",
    "print(Person.num)\n",
    "\n",
    "#给Person类绑定静态方法\n",
    "Person.testStatic = testStatic\n",
    "#调用静态方法\n",
    "Person.testStatic()\n"
   ]
  },
  {
   "cell_type": "markdown",
   "metadata": {},
   "source": [
    "## 运行过程中删除属性、方法\n",
    "删除的方法:\n",
    "   del 对象.属性名\n",
    "   delattr(对象, \"属性名\")\n",
    "   通过以上例子可以得出一个结论：相对于动态语言，静态语言具有严谨性！所以，玩动态语言的时候，小心动态的坑！\n",
    "\n",
    "   那么怎么避免这种情况呢？ 请使用__slots__，"
   ]
  },
  {
   "cell_type": "code",
   "execution_count": null,
   "metadata": {
    "collapsed": true
   },
   "outputs": [],
   "source": []
  }
 ],
 "metadata": {
  "kernelspec": {
   "display_name": "Python 3",
   "language": "python",
   "name": "python3"
  },
  "language_info": {
   "codemirror_mode": {
    "name": "ipython",
    "version": 3
   },
   "file_extension": ".py",
   "mimetype": "text/x-python",
   "name": "python",
   "nbconvert_exporter": "python",
   "pygments_lexer": "ipython3",
   "version": "3.6.3"
  }
 },
 "nbformat": 4,
 "nbformat_minor": 2
}
