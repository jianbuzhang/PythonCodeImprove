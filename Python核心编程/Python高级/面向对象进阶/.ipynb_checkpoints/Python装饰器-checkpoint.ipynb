{
 "cells": [
  {
   "cell_type": "markdown",
   "metadata": {},
   "source": [
    "## python装饰器\n",
    "   装饰器是程序开发中经常会用到的一个功能，用好了装饰器，开发效率如虎添翼，所以这也是Python面试中必问的问题，但对于好多初次接触这个知识的人来讲，这个功能有点绕，自学时直接绕过去了，然后面试问到了就挂了，因为装饰器是程序开发的基础知识，这个都不会，别跟人家说你会Python, 看了下面的文章，保证你学会装饰器。"
   ]
  },
  {
   "cell_type": "code",
   "execution_count": 9,
   "metadata": {},
   "outputs": [
    {
     "name": "stdout",
     "output_type": "stream",
     "text": [
      "foo\n"
     ]
    }
   ],
   "source": [
    "#先明白这段代码\n",
    "\n",
    "####  第一波  ####\n",
    "def foo():\n",
    "    print('foo')\n",
    "\n",
    "foo  #表示是函数\n",
    "foo()  #表示执行foo函数\n",
    "\n",
    "####  第二波  ####\n",
    "def fooA():\n",
    "    print('foo')\n",
    "\n",
    "fooA=lambda x : x+1\n",
    "\n",
    "# 执行下面的lambda表达式，而不再是原来的foo函数，\n",
    "# 因为foo这个名字被重新指向了另外一个匿名函数\n",
    "# fooA()  \n"
   ]
  },
  {
   "cell_type": "code",
   "execution_count": 11,
   "metadata": {
    "collapsed": true
   },
   "outputs": [],
   "source": [
    "# 2.需求来了\n",
    "'''\n",
    "初创公司有N个业务部门，1个基础平台部门，基础平台负责提供底层的功能，\n",
    "如：数据库操作、redis调用、监控API等功能；\n",
    "业务部门使用基础功能时，只需要调用基础平台提供的功能即可，如下：\n",
    "'''\n",
    "\n",
    "###########  基础平台提供的功能如下  ##############\n",
    "def f1():\n",
    "    print('f1')\n",
    "\n",
    "def f2():\n",
    "    print('f2')\n",
    "\n",
    "def f3():\n",
    "    print('f3')\n",
    "\n",
    "def f4():\n",
    "    print('f4')\n",
    "\n",
    "###########  业务部门A 调用基础平台提供的功能  ##############\n",
    "f1()\n",
    "f2()\n",
    "f3()\n",
    "f4()\n",
    "\n",
    "###########  业务部门B 调用基础平台提供的功能  ##############\n",
    "f1()\n",
    "f2()\n",
    "f3()\n",
    "f4()\n"
   ]
  },
  {
   "cell_type": "markdown",
   "metadata": {},
   "source": [
    "## 需要对之前代码进行业务变更\n",
    "\n",
    "目前公司有条不紊的进行着，但是，以前基础平台的开发人员在写代码时候\n",
    "没有关注验证相关的问题，即：基础平台的提供的功能可以被任何人使用。\n",
    "现在需要对基础平台的所有功能进行重构，\n",
    "为平台提供的所有功能添加验证机制，即：执行功能前，先进行验证。\n",
    "\n",
    "## 老大把工作交给 Low B,他是这么做的：\n",
    "跟每个业务部门交涉，每个业务部门自己写代码，调用基础平台的功能之前先验证。哎，这样一来基础平台就不需要做任何修改了；\n",
    "当天Low B就被开除了。。。\n",
    "\n",
    "## 老大把工作交给Low BB,他是这么做的：\n"
   ]
  },
  {
   "cell_type": "code",
   "execution_count": 12,
   "metadata": {},
   "outputs": [
    {
     "name": "stdout",
     "output_type": "stream",
     "text": [
      "f1\n",
      "f2\n",
      "f3\n",
      "f4\n",
      "f1\n",
      "f2\n",
      "f3\n",
      "f4\n"
     ]
    }
   ],
   "source": [
    "############### 基础平台提供的功能如下 ############### \n",
    "\n",
    "def f1():\n",
    "    # 验证1\n",
    "    # 验证2\n",
    "    # 验证3\n",
    "    print('f1')\n",
    "\n",
    "def f2():\n",
    "    # 验证1\n",
    "    # 验证2\n",
    "    # 验证3\n",
    "    print('f2')\n",
    "\n",
    "def f3():\n",
    "    # 验证1\n",
    "    # 验证2\n",
    "    # 验证3\n",
    "    print('f3')\n",
    "\n",
    "def f4():\n",
    "    # 验证1\n",
    "    # 验证2\n",
    "    # 验证3\n",
    "    print('f4')\n",
    "\n",
    "############### 业务部门不变 ############### \n",
    "### 业务部门A 调用基础平台提供的功能### \n",
    "\n",
    "f1()\n",
    "f2()\n",
    "f3()\n",
    "f4()\n",
    "\n",
    "### 业务部门B 调用基础平台提供的功能 ### \n",
    "\n",
    "f1()\n",
    "f2()\n",
    "f3()\n",
    "f4()"
   ]
  },
  {
   "cell_type": "markdown",
   "metadata": {},
   "source": [
    "过了一周 Low BB被开除了\n",
    "## 老大把工作交给Low BB,他是这么做的：\n",
    "只对基础平台的代码进行重构，其他业务部门无需做任何修改"
   ]
  },
  {
   "cell_type": "code",
   "execution_count": 13,
   "metadata": {
    "collapsed": true
   },
   "outputs": [],
   "source": [
    "############### 基础平台提供的功能如下 ############### \n",
    "\n",
    "def check_login():\n",
    "    # 验证1\n",
    "    # 验证2\n",
    "    # 验证3\n",
    "    pass\n",
    "\n",
    "\n",
    "def f1():\n",
    "\n",
    "    check_login()\n",
    "\n",
    "    print('f1')\n",
    "\n",
    "def f2():\n",
    "\n",
    "    check_login()\n",
    "\n",
    "    print('f2')\n",
    "\n",
    "def f3():\n",
    "\n",
    "    check_login()\n",
    "\n",
    "    print('f3')\n",
    "\n",
    "def f4():\n",
    "\n",
    "    check_login()\n",
    "\n",
    "    print('f4')"
   ]
  },
  {
   "cell_type": "markdown",
   "metadata": {
    "collapsed": true
   },
   "source": [
    "老大看了下Low BBB 的实现，嘴角漏出了一丝的欣慰的笑，语重心长的跟Low BBB聊了个天：\n",
    "\n",
    "老大说：\n",
    "写代码要遵循开放封闭原则，虽然在这个原则是用的面向对象开发，但是也适用于函数式编程，简单来说，它规定已经实现的功能代码不允许被修改，但可以被扩展，即：\n",
    "\n",
    "封闭：已实现的功能代码块\n",
    "开放：对扩展开发\n",
    "如果将开放封闭原则应用在上述需求中，那么就不允许在函数 f1 、f2、f3、f4的内部进行修改代码，老板就给了Low BBB一个实现方案："
   ]
  },
  {
   "cell_type": "code",
   "execution_count": 4,
   "metadata": {
    "collapsed": true
   },
   "outputs": [],
   "source": [
    "def w1(func):\n",
    "    def inner():\n",
    "        # 验证1\n",
    "        # 验证2\n",
    "        # 验证3\n",
    "        func()\n",
    "    return inner\n",
    "\n",
    "@w1\n",
    "def f1():\n",
    "    print(\"f1\")\n",
    "\n",
    "@w1\n",
    "def f2():\n",
    "    print(\"f2\")\n",
    "    \n",
    "@w1\n",
    "def f3():\n",
    "    print(\"f3\")\n",
    "    \n",
    "@w1\n",
    "def f4():\n",
    "    print(\"f4\")\n",
    "    \n"
   ]
  },
  {
   "cell_type": "markdown",
   "metadata": {},
   "source": [
    "对于上述代码，也是仅仅对基础平台的代码进行修改，就可以实现在其他人调用函数 f1 f2 f3 f4 之前都进行【验证】操作，并且其他业务部门无需做任何操作。\n",
    "\n",
    "Low BBB心惊胆战的问了下，这段代码的内部执行原理是什么呢？\n",
    "\n",
    "老大正要生气，突然Low BBB的手机掉到地上，恰巧屏保就是Low BBB的女友照片，老大一看一紧一抖，喜笑颜开，决定和Low BBB交个好朋友。\n",
    "\n",
    "详细的开始讲解了："
   ]
  },
  {
   "cell_type": "code",
   "execution_count": 5,
   "metadata": {
    "collapsed": true
   },
   "outputs": [],
   "source": [
    "# 单独以f1为例：\n",
    "def w1(func):\n",
    "    def inner():\n",
    "        # 验证1\n",
    "        # 验证2\n",
    "        # 验证3\n",
    "        func()\n",
    "    return inner\n",
    "\n",
    "@w1\n",
    "def f1():\n",
    "    print('f1')"
   ]
  },
  {
   "cell_type": "markdown",
   "metadata": {},
   "source": [
    "python解释器就会从上到下解释代码，步骤如下：\n",
    "    1.def w1(func): ==>将w1函数加载到内存\n",
    "    2.@w1\n",
    "没错， 从表面上看解释器仅仅会解释这两句代码，因为函数在 没有被调用之前其内部代码不会被执行。\n",
    "\n",
    "从表面上看解释器着实会执行这两句，但是 @w1 这一句代码里却有大文章， @函数名 是python的一种语法糖。\n",
    "\n",
    "上例@w1内部会执行一下操作：\n",
    "\n",
    "执行w1函数\n",
    "\n",
    "执行w1函数 ，并将 @w1 下面的函数作为w1函数的参数，即：@w1 等价于 w1(f1) 所以，内部就会去执行：\n",
    "\n",
    "def inner(): \n",
    "    #验证 1\n",
    "    #验证 2\n",
    "    #验证 3\n",
    "    f1()     # func是参数，此时 func 等于 f1 \n",
    "#### 返回的 inner，inner代表的是函数，非执行函数 ,其实就是将原来的 f1 函数塞进另外一个函数中\n",
    "return inner "
   ]
  },
  {
   "cell_type": "markdown",
   "metadata": {},
   "source": [
    "所以，以后业务部门想要执行 f1 函数时，就会执行 新f1 函数，在新f1 函数内部先执行验证，再执行原来的f1函数，然后将原来f1 函数的返回值返回给了业务调用者。\n",
    "\n",
    "如此一来， 即执行了验证的功能，又执行了原来f1函数的内容，并将原f1函数返回值 返回给业务调用着\n",
    "\n",
    "Low BBB 你明白了吗？要是没明白的话，我晚上去你家帮你解决吧！！！"
   ]
  },
  {
   "cell_type": "code",
   "execution_count": 9,
   "metadata": {},
   "outputs": [
    {
     "name": "stdout",
     "output_type": "stream",
     "text": [
      "<b>hello world-1</b>\n",
      "<b>hello world-2</b>\n",
      "<b><b>hello world-3</b></b>\n"
     ]
    }
   ],
   "source": [
    "# 再议装饰器\n",
    "\n",
    "# 定义函数：完成包裹数据\n",
    "def makeBold(fn):\n",
    "    def wrapped():\n",
    "        return \"<b>\" + fn() + \"</b>\"\n",
    "    return wrapped\n",
    "\n",
    "# 定义函数：完成包裹数据\n",
    "def makeItalic(fn):\n",
    "    def wrapped():\n",
    "        return \"<b>\" + fn() + \"</b>\"\n",
    "    return wrapped\n",
    "\n",
    "@makeBold\n",
    "def test1():\n",
    "    return \"hello world-1\"\n",
    "\n",
    "@makeItalic\n",
    "def test2():\n",
    "    return \"hello world-2\"\n",
    "\n",
    "@makeBold\n",
    "@makeItalic\n",
    "def test3():\n",
    "    return \"hello world-3\"\n",
    "\n",
    "print(test1())\n",
    "print(test2())\n",
    "print(test3())"
   ]
  },
  {
   "cell_type": "markdown",
   "metadata": {},
   "source": [
    "## 4. 装饰器(decorator)功能\n",
    "1.引入日志\n",
    "\n",
    "2.函数执行时间统计\n",
    "\n",
    "3.执行函数前预备处理\n",
    "\n",
    "4.执行函数后清理功能\n",
    "\n",
    "5.权限校验等场景\n",
    "\n",
    "6.缓存"
   ]
  },
  {
   "cell_type": "markdown",
   "metadata": {},
   "source": [
    "# 5.装饰器示例"
   ]
  },
  {
   "cell_type": "code",
   "execution_count": 11,
   "metadata": {},
   "outputs": [
    {
     "name": "stdout",
     "output_type": "stream",
     "text": [
      "foo called at Mon Feb 26 07:37:03 2018\n",
      "i am foo\n",
      "foo called at Mon Feb 26 07:37:05 2018\n",
      "i am foo\n"
     ]
    }
   ],
   "source": [
    "# 例1：无参数的函数\n",
    "from time import ctime,sleep\n",
    "def timefun(func):\n",
    "    def wrappedfunc():  #被装饰的函数无参数   \n",
    "        print(\"%s called at %s\"%(func.__name__, ctime()))\n",
    "        func()\n",
    "    return wrappedfunc\n",
    "\n",
    "@timefun\n",
    "def foo():\n",
    "    print(\"i am foo\")\n",
    "    \n",
    "foo()\n",
    "sleep(2)\n",
    "foo()\n",
    "    "
   ]
  },
  {
   "cell_type": "markdown",
   "metadata": {},
   "source": [
    "上面代码理解装饰器执行行为可理解成\n",
    "\n",
    "foo = timefun(foo)\n",
    "#foo先作为参数赋值给func后,foo接收指向timefun返回的wrappedfunc\n",
    "foo()\n",
    "#调用foo(),即等价调用wrappedfunc()\n",
    "#内部函数wrappedfunc被引用，所以外部函数的func变量(自由变量)并没有释放\n",
    "#func里保存的是原foo函数对象"
   ]
  },
  {
   "cell_type": "code",
   "execution_count": 12,
   "metadata": {},
   "outputs": [
    {
     "name": "stdout",
     "output_type": "stream",
     "text": [
      "foo called at Mon Feb 26 07:37:45 2018\n",
      "3 5\n",
      "8\n",
      "foo called at Mon Feb 26 07:37:47 2018\n",
      "2 4\n",
      "6\n"
     ]
    }
   ],
   "source": [
    "# 例2：被装饰的函数有参数\n",
    "\n",
    "from time import ctime, sleep\n",
    "\n",
    "def timefun(func):\n",
    "    def wrappedfunc(a, b):\n",
    "        print(\"%s called at %s\"%(func.__name__, ctime()))\n",
    "        print(a, b)\n",
    "        func(a, b)\n",
    "    return wrappedfunc\n",
    "\n",
    "@timefun\n",
    "def foo(a, b):\n",
    "    print(a+b)\n",
    "\n",
    "foo(3,5)\n",
    "sleep(2)\n",
    "foo(2,4)"
   ]
  },
  {
   "cell_type": "code",
   "execution_count": 13,
   "metadata": {},
   "outputs": [
    {
     "name": "stdout",
     "output_type": "stream",
     "text": [
      "foo called at Mon Feb 26 07:39:15 2018\n",
      "15\n",
      "foo called at Mon Feb 26 07:39:17 2018\n",
      "15\n"
     ]
    }
   ],
   "source": [
    "# 例3被装饰的函数有不定长参数\n",
    "\n",
    "from time import ctime, sleep\n",
    "\n",
    "def timefun(func):\n",
    "    def wrappedfunc(*args, **kwargs):\n",
    "        print(\"%s called at %s\"%(func.__name__, ctime()))\n",
    "        func(*args, **kwargs)\n",
    "    return wrappedfunc\n",
    "\n",
    "@timefun\n",
    "def foo(a, b, c):\n",
    "    print(a+b+c)\n",
    "\n",
    "foo(3,5,7)\n",
    "sleep(2)\n",
    "foo(2,4,9)"
   ]
  },
  {
   "cell_type": "code",
   "execution_count": 15,
   "metadata": {},
   "outputs": [
    {
     "name": "stdout",
     "output_type": "stream",
     "text": [
      "foo called at Mon Feb 26 07:43:29 2018\n",
      "I am foo\n",
      "foo called at Mon Feb 26 07:43:31 2018\n",
      "I am foo\n",
      "getInfo called at Mon Feb 26 07:43:31 2018\n",
      "----hahah---\n"
     ]
    }
   ],
   "source": [
    "# 例4：装饰器中的return\n",
    "\n",
    "from time import ctime, sleep\n",
    "\n",
    "def timefun(func):\n",
    "    def wrappedfunc():\n",
    "        print(\"%s called at %s\"%(func.__name__, ctime()))\n",
    "        func()\n",
    "    return wrappedfunc\n",
    "\n",
    "@timefun\n",
    "def foo():\n",
    "    print(\"I am foo\")\n",
    "\n",
    "@timefun\n",
    "def getInfo():\n",
    "    return '----hahah---'\n",
    "\n",
    "foo()\n",
    "sleep(2)\n",
    "foo()\n",
    "\n",
    "print(getInfo())"
   ]
  },
  {
   "cell_type": "markdown",
   "metadata": {},
   "source": [
    "如果修改装饰器为return func()，则运行结果：\n",
    "\n",
    "foo called at Fri Nov  4 21:55:57 2016\n",
    "\n",
    "I am foo\n",
    "\n",
    "foo called at Fri Nov  4 21:55:59 2016\n",
    "\n",
    "I am foo\n",
    "\n",
    "getInfo called at Fri Nov  4 21:55:59 2016\n",
    "\n",
    "----hahah---\n",
    "\n",
    "## 总结：一般情况下，为了让装饰器更通用，可以有return"
   ]
  },
  {
   "cell_type": "code",
   "execution_count": 17,
   "metadata": {},
   "outputs": [
    {
     "name": "stdout",
     "output_type": "stream",
     "text": [
      "foo called at Mon Feb 26 07:52:51 2018 itcast\n",
      "I am foo\n",
      "foo called at Mon Feb 26 07:52:53 2018 itcast\n",
      "I am foo\n",
      "too called at Mon Feb 26 07:52:53 2018 python\n",
      "I am too\n",
      "too called at Mon Feb 26 07:52:55 2018 python\n",
      "I am too\n"
     ]
    }
   ],
   "source": [
    "# 例5:装饰器带参数,在原有装饰器的基础上，设置外部变量\n",
    "\n",
    "#decorator2.py\n",
    "\n",
    "from time import ctime, sleep\n",
    "\n",
    "def timefun_arg(pre=\"hello\"):\n",
    "    def timefun(func):\n",
    "        def wrappedfunc():\n",
    "            print(\"%s called at %s %s\"%(func.__name__, ctime(), pre))\n",
    "            return func()\n",
    "        return wrappedfunc\n",
    "    return timefun\n",
    "\n",
    "@timefun_arg(\"itcast\")\n",
    "def foo():\n",
    "    print(\"I am foo\")\n",
    "    \n",
    "@timefun_arg(\"python\")\n",
    "def too():\n",
    "    print(\"I am too\")\n",
    "\n",
    "foo()\n",
    "sleep(2)\n",
    "foo()\n",
    "\n",
    "too()\n",
    "sleep(2)\n",
    "too()\n",
    "\n",
    "# 可以理解为\n",
    "# foo()==timefun_arg(\"itcast\")(foo)()"
   ]
  },
  {
   "cell_type": "code",
   "execution_count": 1,
   "metadata": {},
   "outputs": [
    {
     "name": "stdout",
     "output_type": "stream",
     "text": [
      "call me!\n"
     ]
    }
   ],
   "source": [
    "# 例6：类装饰器\n",
    "\n",
    "'''\n",
    "装饰器函数其实是这样一个接口约束，它必须接受一个callable对象作为参数，\n",
    "然后返回一个callable对象。在Python中一般callable对象都是函数，但也有例外。\n",
    "只要某个对象重写了 __call__() 方法，那么这个对象就是callable的。\n",
    "'''\n",
    "\n",
    "class Test():\n",
    "    def __call__(self):\n",
    "        print(\"call me!\")\n",
    "    \n",
    "t=Test()\n",
    "t()  #call me\n"
   ]
  },
  {
   "cell_type": "code",
   "execution_count": null,
   "metadata": {
    "collapsed": true
   },
   "outputs": [],
   "source": []
  }
 ],
 "metadata": {
  "kernelspec": {
   "display_name": "Python 3",
   "language": "python",
   "name": "python3"
  },
  "language_info": {
   "codemirror_mode": {
    "name": "ipython",
    "version": 3
   },
   "file_extension": ".py",
   "mimetype": "text/x-python",
   "name": "python",
   "nbconvert_exporter": "python",
   "pygments_lexer": "ipython3",
   "version": "3.6.3"
  }
 },
 "nbformat": 4,
 "nbformat_minor": 2
}
