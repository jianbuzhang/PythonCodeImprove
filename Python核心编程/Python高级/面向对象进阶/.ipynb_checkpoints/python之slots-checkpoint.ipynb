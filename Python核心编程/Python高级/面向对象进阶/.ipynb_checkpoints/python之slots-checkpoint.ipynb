{
 "cells": [
  {
   "cell_type": "markdown",
   "metadata": {},
   "source": [
    "## python之__slots__\n",
    "   现在我们终于明白，动态语言与静态语言的不同\n",
    "   动态语言：可以在运行的过程中，修改代码\n",
    "   静态语言：编译时已经确定好代码，运行过程中不能修改\n",
    "   如何限制实例的属性呢？比如，只允许对Person实例添加name和age属性；\n",
    "   为了达到限制的目的，Python允许在定义class的时候，定义一个特殊的__slot__变量，来\n",
    "限制该class实例能添加的属性："
   ]
  },
  {
   "cell_type": "code",
   "execution_count": 1,
   "metadata": {},
   "outputs": [
    {
     "ename": "AttributeError",
     "evalue": "'Person' object has no attribute 'score'",
     "output_type": "error",
     "traceback": [
      "\u001b[1;31m---------------------------------------------------------------------------\u001b[0m",
      "\u001b[1;31mAttributeError\u001b[0m                            Traceback (most recent call last)",
      "\u001b[1;32m<ipython-input-1-e72779ffd29a>\u001b[0m in \u001b[0;36m<module>\u001b[1;34m()\u001b[0m\n\u001b[0;32m      5\u001b[0m \u001b[0mP\u001b[0m\u001b[1;33m.\u001b[0m\u001b[0mname\u001b[0m\u001b[1;33m=\u001b[0m\u001b[1;34m\"老王\"\u001b[0m\u001b[1;33m\u001b[0m\u001b[0m\n\u001b[0;32m      6\u001b[0m \u001b[0mP\u001b[0m\u001b[1;33m.\u001b[0m\u001b[0mage\u001b[0m\u001b[1;33m=\u001b[0m\u001b[1;36m20\u001b[0m\u001b[1;33m\u001b[0m\u001b[0m\n\u001b[1;32m----> 7\u001b[1;33m \u001b[0mP\u001b[0m\u001b[1;33m.\u001b[0m\u001b[0mscore\u001b[0m\u001b[1;33m=\u001b[0m\u001b[1;36m100\u001b[0m  \u001b[1;31m#测试此处是否可以额外添加__slots__之外的属性\u001b[0m\u001b[1;33m\u001b[0m\u001b[0m\n\u001b[0m",
      "\u001b[1;31mAttributeError\u001b[0m: 'Person' object has no attribute 'score'"
     ]
    }
   ],
   "source": [
    "class Person(object):\n",
    "    __slots__=(\"name\",\"age\")\n",
    "\n",
    "P=Person()\n",
    "P.name=\"老王\"\n",
    "P.age=20\n",
    "P.score=100  #测试此处是否可以额外添加__slots__之外的属性\n"
   ]
  },
  {
   "cell_type": "code",
   "execution_count": 2,
   "metadata": {
    "collapsed": true
   },
   "outputs": [],
   "source": [
    "# 注意：\n",
    "#使用__slots__变量要注意，__slots__定义的属性仅对当前类实例起作用，对继承的子类不起作用\n",
    "\n",
    "class Test(Person):\n",
    "    pass\n",
    "\n",
    "t=Test()\n",
    "t.score=100"
   ]
  },
  {
   "cell_type": "code",
   "execution_count": null,
   "metadata": {
    "collapsed": true
   },
   "outputs": [],
   "source": []
  }
 ],
 "metadata": {
  "kernelspec": {
   "display_name": "Python 3",
   "language": "python",
   "name": "python3"
  },
  "language_info": {
   "codemirror_mode": {
    "name": "ipython",
    "version": 3
   },
   "file_extension": ".py",
   "mimetype": "text/x-python",
   "name": "python",
   "nbconvert_exporter": "python",
   "pygments_lexer": "ipython3",
   "version": "3.6.3"
  }
 },
 "nbformat": 4,
 "nbformat_minor": 2
}
