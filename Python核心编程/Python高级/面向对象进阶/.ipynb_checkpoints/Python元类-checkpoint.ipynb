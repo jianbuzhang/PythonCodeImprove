{
 "cells": [
  {
   "cell_type": "markdown",
   "metadata": {},
   "source": [
    "## 到底什么是元类\n",
    "元类就是用来创建类的‘东西’，你创建类就是为了创建类的实例对象\n",
    "元类就是用来创建这些类（对象）的，元类就是类的类\n",
    "\n",
    "函数type是一个元类，type就是python在背后用来创建所有类的元类\n",
    "\n",
    "Python中所有的东西，注意：我们是指所有的东西--都是对象，这包括整数、字符串、函数以及类。他们全部都是对象，而且它们都是从一个类创建而来，这个类就是type。\n",
    "\n",
    "因此，元类就是创建类这种对象的东西。type就是Python的内建元类。当然，用户也可以创建自己的元类。"
   ]
  },
  {
   "cell_type": "code",
   "execution_count": 7,
   "metadata": {},
   "outputs": [
    {
     "name": "stdout",
     "output_type": "stream",
     "text": [
      "<__main__.ObjectCreator object at 0x000001DD8FAB9D30>\n"
     ]
    }
   ],
   "source": [
    "# 元类\n",
    "\n",
    "# python中的类也是一种对象。\n",
    "class ObjectCreator(object):\n",
    "    pass\n",
    "my_object=ObjectCreator()\n",
    "print(my_object)"
   ]
  },
  {
   "cell_type": "code",
   "execution_count": 15,
   "metadata": {},
   "outputs": [
    {
     "name": "stdout",
     "output_type": "stream",
     "text": [
      "<class '__main__.ObjectCreator2'>\n"
     ]
    }
   ],
   "source": [
    "# 可以将python类作为函数参数进行传递\n",
    "\n",
    "class ObjectCreator2(object):\n",
    "    pass\n",
    "def echo(o):\n",
    "    print(o)\n",
    "\n",
    "echo(ObjectCreator2)"
   ]
  },
  {
   "cell_type": "code",
   "execution_count": 16,
   "metadata": {},
   "outputs": [
    {
     "name": "stdout",
     "output_type": "stream",
     "text": [
      "foo\n"
     ]
    }
   ],
   "source": [
    "# 可以为类增加属性\n",
    "\n",
    "ObjectCreator2.new_attribute='foo'\n",
    "print(ObjectCreator2.new_attribute)"
   ]
  },
  {
   "cell_type": "code",
   "execution_count": 20,
   "metadata": {},
   "outputs": [
    {
     "name": "stdout",
     "output_type": "stream",
     "text": [
      "foo\n"
     ]
    }
   ],
   "source": [
    "# 动态地创建类\n",
    "# 类也是对象，可以在运动时动态的创建它们，就像其他任何对象一样。\n",
    "def choose_class(name):\n",
    "    if name=='foo':\n",
    "        class Foo(object):\n",
    "            print('foo')\n",
    "            pass\n",
    "        return Foo  #返回的是类，不是类的实例\n",
    "    else:\n",
    "        class Bar(object):\n",
    "            print('bar')\n",
    "            pass\n",
    "        return Bar\n",
    "\n",
    "MyClass=choose_class('foo')"
   ]
  },
  {
   "cell_type": "code",
   "execution_count": 22,
   "metadata": {},
   "outputs": [
    {
     "name": "stdout",
     "output_type": "stream",
     "text": [
      "<class 'int'>\n",
      "<class 'str'>\n",
      "<class '__main__.ObjectCreator2'>\n",
      "<class 'type'>\n"
     ]
    }
   ],
   "source": [
    "# 内建函数type()  可以返回一个对象的类型\n",
    "\n",
    "print(type(1))  #数值的类型\n",
    "print(type(\"1\"))  #字符串的类型\n",
    "print(type(ObjectCreator2()))  #实例对象的类型\n",
    "print(type(ObjectCreator2))  #类的类型\n",
    "\n"
   ]
  },
  {
   "cell_type": "code",
   "execution_count": 26,
   "metadata": {},
   "outputs": [
    {
     "name": "stdout",
     "output_type": "stream",
     "text": [
      "<class '__main__.Foo'>\n",
      "True\n"
     ]
    },
    {
     "data": {
      "text/plain": [
       "True"
      ]
     },
     "execution_count": 26,
     "metadata": {},
     "output_type": "execute_result"
    }
   ],
   "source": [
    "# 使用type创建类\n",
    "\n",
    "#type还有一个完全不同的功能，动态的创建类\n",
    "# type(类名，由父类名称组成的元组（针对继承的情况，可以为空），\n",
    "# 包含属性的字典（名称和值）)\n",
    "\n",
    "#手动使用type创建类\n",
    "Test2=type(\"Test\",(),{}) #定义了一个Test类\n",
    "Test2()  #创建了一个Test类的实例对象\n",
    "\n",
    "# 使用type创建带有属性的类\n",
    "FooA=type('Foo',(),{'bar':'True'})  #可以翻译为 class Foo(object): bar =True\n",
    "print(FooA)\n",
    "print(FooA.bar) #输出类的属性\n",
    "\n",
    "# 使用type创建带有方法的类\n",
    "# 添加实例方法\n",
    "FooChild=type('FooChild',(FooA,),{'echo_bar':'echo_bar'}) #创建FooA的子类FooAChild\n",
    "hasattr(FooChild,'echo_bar')  #判断FooChild类中，是否有echo_bar这个属性\n"
   ]
  },
  {
   "cell_type": "code",
   "execution_count": 28,
   "metadata": {},
   "outputs": [
    {
     "data": {
      "text/plain": [
       "<function __main__.testStatic>"
      ]
     },
     "execution_count": 28,
     "metadata": {},
     "output_type": "execute_result"
    }
   ],
   "source": [
    "# 添加静态方法\n",
    "@staticmethod\n",
    "def testStatic():\n",
    "    print(\"static method...\")\n",
    "\n",
    "Foochild2=type('Foochild2',(FooA,),{\"echo_bar\":\"echo_bar\",\"testStatic\":testStatic})\n",
    "\n",
    "foocld=Foochild2()\n",
    "foocld.testStatic\n",
    "foocld.echo_bar"
   ]
  },
  {
   "cell_type": "code",
   "execution_count": 32,
   "metadata": {},
   "outputs": [
    {
     "name": "stdout",
     "output_type": "stream",
     "text": [
      "True\n"
     ]
    }
   ],
   "source": [
    "# 添加类方法\n",
    "\n",
    "@classmethod\n",
    "def testClass(cls):\n",
    "    print(cls.bar)\n",
    "Foochild=type('Foochild',(FooA,),{'testStatic':testStatic,'testClass':testClass})\n",
    "\n",
    "fooclidA=Foochild()\n",
    "fooclidA.testClass()"
   ]
  },
  {
   "cell_type": "code",
   "execution_count": 34,
   "metadata": {},
   "outputs": [],
   "source": [
    "# __metaclass__属性\n",
    "# 通过在定义一个类的时候为其添加__metaclass__属性，Python就自动用元类来创建该类。\n",
    "# class Foo(object):\n",
    "#    __metaclass__=something...\n",
    "    "
   ]
  },
  {
   "cell_type": "markdown",
   "metadata": {},
   "source": [
    "## 自定义元类\n",
    "   元类的主要目的是为了创建类时能自动地改变类。通常，我们会为API做这样的事情。希望可以创建符合当前上下文的类。\n",
    "   假想一个很傻的例子，你决定在你的模块里所有的类的属性都应该是大写形式。有好几种方法可以办到，但其中一种就是通过在模块级别设定__metaclass__。采用这种方法，这个模块中的所有类都会通过这个元类来创建，我们只需要告诉元类把所有的属性都改成大写形式就万事大吉了。"
   ]
  },
  {
   "cell_type": "code",
   "execution_count": 36,
   "metadata": {},
   "outputs": [
    {
     "name": "stdout",
     "output_type": "stream",
     "text": [
      "False\n",
      "True\n",
      "bip\n"
     ]
    }
   ],
   "source": [
    "# 自定义元类代码测试\n",
    "# -*- coding:utf-8 -*-\n",
    "def upper_attr(future_class_name,future_class_parents,future_class_attr):\n",
    "    #遍历属性字典，把不是__开头的属性名变成大写\n",
    "    newAttr={}\n",
    "    for name,value in future_class_attr.items():\n",
    "        if not name.startswith(\"__\"):\n",
    "            newAttr[name.upper()]=value\n",
    "    \n",
    "    #调用type来创建一个类\n",
    "    return type(future_class_name,future_class_parents,newAttr)\n",
    "\n",
    "class Foo(object,metaclass=upper_attr):\n",
    "    bar='bip'\n",
    "    \n",
    "print(hasattr(Foo,'bar'))\n",
    "print(hasattr(Foo,'BAR'))\n",
    "\n",
    "f=Foo()\n",
    "print(f.BAR)"
   ]
  },
  {
   "cell_type": "code",
   "execution_count": 38,
   "metadata": {
    "collapsed": true
   },
   "outputs": [],
   "source": [
    "# 现在让我们再做一次，这次用一个真正的class来当做元类\n",
    "#coding=utf-8\n",
    "\n",
    "class UpperAttrMetaClass(type):\n",
    "    #__new__是在__init__之前被调用的特殊方法\n",
    "    #__new__是用来创建对象并返回之的方法\n",
    "    #而__init__只是用来将传入的参数初始化给对象\n",
    "    #你很少用到__new__，除非你希望能控制对象的创建\n",
    "    #这里，创建的对象是类，我们希望能够自定义它，所以我们这里改写__new__\n",
    "    #如果你希望的话，你也可以在__inti__中做些事情\n",
    "    #还有一些高级的用法会涉及到改写__call__特殊方法\n",
    "    def __new__(cls,future_calss_name,future_calss_parents,future_class_attr):\n",
    "        #遍历属性字典，把不是__开头的属性名改写为大写\n",
    "        newAttr={}\n",
    "        for name,value in future_class_attr.items():\n",
    "            if not name.startswith(\"__\"):\n",
    "                newAttr[name.upper()]=value\n",
    "        \n",
    "        #方法1：通过tyoe来做类对象的创建\n",
    "        #return type(future_class_name, future_class_parents, newAttr)\n",
    "        \n",
    "        # 方法2：复用type.__new__方法\n",
    "        # 这就是基本的OOP编程，没什么魔法\n",
    "        # return type.__new__(cls, future_class_name, future_class_parents, newAttr)\n",
    "        \n",
    "        # 方法3：使用super方法\n",
    "        return super(UpperAttrMetaClass, cls).__new__(cls, future_class_name, future_class_parents, newAttr)\n",
    "    \n"
   ]
  },
  {
   "cell_type": "markdown",
   "metadata": {},
   "source": [
    "## 元类的作用\n",
    "   就元类本身而言，主要功能有：\n",
    "   1.拦截类的创建；\n",
    "   2.修改类；\n",
    "   3.返回修改之后的类\n",
    "## 为何要用元类\n",
    "   现在回到我们的大主题上来，究竟是为什么你会去使用这样一种容易出错且晦涩的特性？好吧，一般来说，你根本就用不上它：\n",
    "   “元类就是深度的魔法，99%的用户应该根本不必为此操心。如果你想搞清楚究竟是否需要用到元类，那么你就不需要它。那些实际用到元类的人都非常清楚地知道他们需要做什么，而且根本不需要解释为什么要用元类。” —— Python界的领袖 Tim Peters"
   ]
  },
  {
   "cell_type": "code",
   "execution_count": null,
   "metadata": {
    "collapsed": true
   },
   "outputs": [],
   "source": []
  }
 ],
 "metadata": {
  "kernelspec": {
   "display_name": "Python 3",
   "language": "python",
   "name": "python3"
  },
  "language_info": {
   "codemirror_mode": {
    "name": "ipython",
    "version": 3
   },
   "file_extension": ".py",
   "mimetype": "text/x-python",
   "name": "python",
   "nbconvert_exporter": "python",
   "pygments_lexer": "ipython3",
   "version": "3.6.3"
  }
 },
 "nbformat": 4,
 "nbformat_minor": 2
}
