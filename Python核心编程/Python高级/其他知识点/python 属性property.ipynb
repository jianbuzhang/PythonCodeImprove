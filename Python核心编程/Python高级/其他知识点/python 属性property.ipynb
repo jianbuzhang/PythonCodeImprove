{
 "cells": [
  {
   "cell_type": "code",
   "execution_count": 1,
   "metadata": {
    "collapsed": true
   },
   "outputs": [],
   "source": [
    "# python 属性property\n",
    "\n",
    "# 1.私有属性添加getter和setter方法\n",
    "\n",
    "class Money(object):\n",
    "    def __init__(self):\n",
    "        self.__money = 0\n",
    "\n",
    "    def getMoney(self):\n",
    "        return self.__money\n",
    "\n",
    "    def setMoney(self, value):\n",
    "        if isinstance(value, int):\n",
    "            self.__money = value\n",
    "        else:\n",
    "            print(\"error:不是整型数字\")\n",
    "\n"
   ]
  },
  {
   "cell_type": "code",
   "execution_count": 3,
   "metadata": {
    "collapsed": true
   },
   "outputs": [],
   "source": [
    "# 2. 使用property升级getter和setter方法\n",
    "\n",
    "class Money(object):\n",
    "    def __init__(self):\n",
    "        self.__money = 0\n",
    "\n",
    "    def getMoney(self):\n",
    "        return self.__money\n",
    "\n",
    "    def setMoney(self, value):\n",
    "        if isinstance(value, int):\n",
    "            self.__money = value\n",
    "        else:\n",
    "            print(\"error:不是整型数字\")\n",
    "    money = property(getMoney, setMoney)"
   ]
  },
  {
   "cell_type": "code",
   "execution_count": 4,
   "metadata": {
    "collapsed": true
   },
   "outputs": [],
   "source": [
    "# 3. 使用property取代getter和setter方法\n",
    "\n",
    "'''\n",
    "@property成为属性函数，可以对属性赋值时做必要的检查，并保证代码的清晰短小，主要有2个作用\n",
    "\n",
    "将方法转换为只读\n",
    "重新实现一个属性的设置和读取方法,可做边界判定\n",
    "'''\n",
    "class Money(object):\n",
    "    def __init__(self):\n",
    "        self.__money = 0\n",
    "\n",
    "    @property\n",
    "    def money(self):\n",
    "        return self.__money\n",
    "\n",
    "    @money.setter\n",
    "    def money(self, value):\n",
    "        if isinstance(value, int):\n",
    "            self.__money = value\n",
    "        else:\n",
    "            print(\"error:不是整型数字\")"
   ]
  },
  {
   "cell_type": "code",
   "execution_count": null,
   "metadata": {
    "collapsed": true
   },
   "outputs": [],
   "source": []
  }
 ],
 "metadata": {
  "kernelspec": {
   "display_name": "Python 3",
   "language": "python",
   "name": "python3"
  },
  "language_info": {
   "codemirror_mode": {
    "name": "ipython",
    "version": 3
   },
   "file_extension": ".py",
   "mimetype": "text/x-python",
   "name": "python",
   "nbconvert_exporter": "python",
   "pygments_lexer": "ipython3",
   "version": "3.6.3"
  }
 },
 "nbformat": 4,
 "nbformat_minor": 2
}
