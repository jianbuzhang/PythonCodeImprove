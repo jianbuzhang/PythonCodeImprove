{
 "cells": [
  {
   "cell_type": "code",
   "execution_count": 1,
   "metadata": {},
   "outputs": [
    {
     "data": {
      "text/plain": [
       "['',\n",
       " 'E:\\\\Anaconda3.5\\\\BasicInstallation\\\\python36.zip',\n",
       " 'E:\\\\Anaconda3.5\\\\BasicInstallation\\\\DLLs',\n",
       " 'E:\\\\Anaconda3.5\\\\BasicInstallation\\\\lib',\n",
       " 'E:\\\\Anaconda3.5\\\\BasicInstallation',\n",
       " 'E:\\\\Anaconda3.5\\\\BasicInstallation\\\\lib\\\\site-packages',\n",
       " 'E:\\\\Anaconda3.5\\\\BasicInstallation\\\\lib\\\\site-packages\\\\Babel-2.5.0-py3.6.egg',\n",
       " 'E:\\\\Anaconda3.5\\\\BasicInstallation\\\\lib\\\\site-packages\\\\win32',\n",
       " 'E:\\\\Anaconda3.5\\\\BasicInstallation\\\\lib\\\\site-packages\\\\win32\\\\lib',\n",
       " 'E:\\\\Anaconda3.5\\\\BasicInstallation\\\\lib\\\\site-packages\\\\Pythonwin',\n",
       " 'E:\\\\Anaconda3.5\\\\BasicInstallation\\\\lib\\\\site-packages\\\\IPython\\\\extensions',\n",
       " 'C:\\\\Users\\\\Administrator\\\\.ipython']"
      ]
     },
     "execution_count": 1,
     "metadata": {},
     "output_type": "execute_result"
    }
   ],
   "source": [
    "# import导入模块\n",
    "\n",
    "import sys\n",
    "sys.path\n"
   ]
  },
  {
   "cell_type": "code",
   "execution_count": null,
   "metadata": {
    "collapsed": true
   },
   "outputs": [],
   "source": []
  }
 ],
 "metadata": {
  "kernelspec": {
   "display_name": "Python 3",
   "language": "python",
   "name": "python3"
  },
  "language_info": {
   "codemirror_mode": {
    "name": "ipython",
    "version": 3
   },
   "file_extension": ".py",
   "mimetype": "text/x-python",
   "name": "python",
   "nbconvert_exporter": "python",
   "pygments_lexer": "ipython3",
   "version": "3.6.3"
  }
 },
 "nbformat": 4,
 "nbformat_minor": 2
}
