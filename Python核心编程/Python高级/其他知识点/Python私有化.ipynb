{
 "cells": [
  {
   "cell_type": "code",
   "execution_count": null,
   "metadata": {
    "collapsed": true
   },
   "outputs": [],
   "source": [
    "# 私有化\n",
    "\n",
    "'''\n",
    "Python 用下划线作为变量前缀和后缀指定特殊变量\n",
    "\n",
    "xx: 公有变量\n",
    "\n",
    "_xxx 不能用’from module import *’导入\n",
    "\n",
    "__xxx__ 系统定义名字\n",
    "\n",
    "__xxx 类中的私有变量名\n",
    "\n",
    "xx_:单后置下划线,用于避免与Python关键词的冲突\n",
    "\n",
    "'''\n",
    "\n"
   ]
  }
 ],
 "metadata": {
  "kernelspec": {
   "display_name": "Python 3",
   "language": "python",
   "name": "python3"
  },
  "language_info": {
   "codemirror_mode": {
    "name": "ipython",
    "version": 3
   },
   "file_extension": ".py",
   "mimetype": "text/x-python",
   "name": "python",
   "nbconvert_exporter": "python",
   "pygments_lexer": "ipython3",
   "version": "3.6.3"
  }
 },
 "nbformat": 4,
 "nbformat_minor": 2
}
